{
 "cells": [
  {
   "cell_type": "markdown",
   "metadata": {},
   "source": [
    "# Data and Model Versioning\n",
    "\n"
   ]
  },
  {
   "cell_type": "markdown",
   "metadata": {},
   "source": [
    "Exploring the fundamentals of DVC for ML artefact versioning, as outlined in the [DVC tutorial](https://dvc.org/doc/start/data-and-model-versioning)."
   ]
  },
  {
   "cell_type": "markdown",
   "metadata": {},
   "source": [
    "## Initialise the Project"
   ]
  },
  {
   "cell_type": "code",
   "execution_count": 2,
   "metadata": {},
   "outputs": [
    {
     "name": "stdout",
     "output_type": "stream",
     "text": [
      "Initialized DVC repository.\n",
      "\n",
      "You can now commit the changes to git.\n",
      "\n",
      "\u001b[31m+---------------------------------------------------------------------+\n",
      "\u001b[0m\u001b[31m|\u001b[0m                                                                     \u001b[31m|\u001b[0m\n",
      "\u001b[31m|\u001b[0m        DVC has enabled anonymous aggregate usage analytics.         \u001b[31m|\u001b[0m\n",
      "\u001b[31m|\u001b[0m     Read the analytics documentation (and how to opt-out) here:     \u001b[31m|\u001b[0m\n",
      "\u001b[31m|\u001b[0m             <\u001b[36mhttps://dvc.org/doc/user-guide/analytics\u001b[39m>              \u001b[31m|\u001b[0m\n",
      "\u001b[31m|\u001b[0m                                                                     \u001b[31m|\u001b[0m\n",
      "\u001b[31m+---------------------------------------------------------------------+\n",
      "\u001b[0m\n",
      "\u001b[33mWhat's next?\u001b[39m\n",
      "\u001b[33m------------\u001b[39m\n",
      "- Check out the documentation: <\u001b[36mhttps://dvc.org/doc\u001b[39m>\n",
      "- Get help and share ideas: <\u001b[36mhttps://dvc.org/chat\u001b[39m>\n",
      "- Star us on GitHub: <\u001b[36mhttps://github.com/iterative/dvc\u001b[39m>\n",
      "\u001b[0m"
     ]
    }
   ],
   "source": [
    "!dvc init --subdir"
   ]
  },
  {
   "cell_type": "markdown",
   "metadata": {},
   "source": [
    "## Setup a Remote Artefact Location\n",
    "\n",
    "Which for this demo will be an AWS S3 bucket."
   ]
  },
  {
   "cell_type": "code",
   "execution_count": 1,
   "metadata": {},
   "outputs": [
    {
     "name": "stdout",
     "output_type": "stream",
     "text": [
      "Setting 's3' as a default remote.\n",
      "\u001b[0m"
     ]
    }
   ],
   "source": [
    "!dvc remote add -d s3 s3://dvc-example-artefacts"
   ]
  },
  {
   "cell_type": "markdown",
   "metadata": {},
   "source": [
    "Note that the `-d` flag will set this remote as the default, so that dvc commands like `dvc add` will use it as a default."
   ]
  },
  {
   "cell_type": "markdown",
   "metadata": {},
   "source": [
    "## Start Tracking a Dataset\n",
    "\n",
    "We start by creating the dataset using Pandas, but this could be a proxy for any data ingestion operation - e.g., querying a database to retrieve the latest tranche of training data."
   ]
  },
  {
   "cell_type": "code",
   "execution_count": 9,
   "metadata": {},
   "outputs": [],
   "source": [
    "import pandas as pd\n",
    "\n",
    "\n",
    "df = pd.DataFrame({\"x\": [1, 2, 3, 4, 5], \"z\": [\"a\", \"b\", \"c\", \"d\", \"e\"]})\n",
    "df.to_csv(\"datasets/example.csv\", index=False)"
   ]
  },
  {
   "cell_type": "markdown",
   "metadata": {},
   "source": [
    "Next, we get DVC to start tracking this new dataset."
   ]
  },
  {
   "cell_type": "code",
   "execution_count": 10,
   "metadata": {},
   "outputs": [
    {
     "name": "stdout",
     "output_type": "stream",
     "text": [
      "\u001b[?25l                                                                          \u001b[32m⠋\u001b[0m Checking graph\n",
      "Adding...                                                                       \n",
      "!\u001b[A\n",
      "  0%|          |                                   0.00/? [00:00<?,        ?B/s]\u001b[A\n",
      "                                                                                \u001b[A\n",
      "!\u001b[A\n",
      "  0%|          |.WTQTmCvBSY3whkYBU8QFuH.tmp        0.00/? [00:00<?,        ?B/s]\u001b[A\n",
      "  0%|          |.WTQTmCvBSY3whkYBU8QFuH.tmp     0.00/4.00 [00:00<?,        ?B/s]\u001b[A\n",
      "100% Adding...|████████████████████████████████████████|1/1 [00:00, 73.55file/s]\u001b[A\n",
      "\n",
      "To track the changes with git, run:\n",
      "\n",
      "    git add datasets/.gitignore datasets/example.csv.dvc\n",
      "\n",
      "To enable auto staging, run:\n",
      "\n",
      "\tdvc config core.autostage true\n",
      "\u001b[0m"
     ]
    }
   ],
   "source": [
    "!dvc add datasets/example.csv"
   ]
  },
  {
   "cell_type": "markdown",
   "metadata": {},
   "source": [
    "Note, that `datasets/example.csv` will not be tracked by Git as it is automatically setup to ignore that file, within that directory,"
   ]
  },
  {
   "cell_type": "code",
   "execution_count": 15,
   "metadata": {},
   "outputs": [
    {
     "name": "stdout",
     "output_type": "stream",
     "text": [
      "/example.csv\n"
     ]
    }
   ],
   "source": [
    "!cat datasets/.gitignore"
   ]
  },
  {
   "cell_type": "markdown",
   "metadata": {},
   "source": [
    "Instead, we need to track the metadata file `datasets/example.csv.dvc` (using Git), and use `dvc push` to move the data to remote storage (see below)."
   ]
  },
  {
   "cell_type": "code",
   "execution_count": 16,
   "metadata": {},
   "outputs": [
    {
     "name": "stdout",
     "output_type": "stream",
     "text": [
      "outs:\n",
      "- md5: 553afb5628d5a62daecac40d8442f189\n",
      "  size: 35\n",
      "  path: example.csv\n"
     ]
    }
   ],
   "source": [
    "!cat datasets/example.csv.dvc"
   ]
  },
  {
   "cell_type": "markdown",
   "metadata": {},
   "source": [
    "Don't forget to commit the changes to the metadata file!"
   ]
  },
  {
   "cell_type": "code",
   "execution_count": null,
   "metadata": {},
   "outputs": [],
   "source": [
    "!git commit -m \"Added dataset v1\""
   ]
  },
  {
   "cell_type": "markdown",
   "metadata": {},
   "source": [
    "And push them to the remote repository when the time comes."
   ]
  },
  {
   "cell_type": "markdown",
   "metadata": {},
   "source": [
    "## Push Dataset to S3"
   ]
  },
  {
   "cell_type": "code",
   "execution_count": 14,
   "metadata": {},
   "outputs": [
    {
     "name": "stdout",
     "output_type": "stream",
     "text": [
      "  0% Transferring|                                   |0/1 [00:00<?,     ?file/s]\n",
      "!\u001b[A\n",
      "  0%|          |3afb5628d5a62daecac40d8442f189     0.00/? [00:00<?,        ?B/s]\u001b[A\n",
      "  0%|          |3afb5628d5a62daecac40d8442f189  0.00/35.0 [00:00<?,        ?B/s]\u001b[A\n",
      "100%|██████████|3afb5628d5a62daecac40d8442f135.0/35.0 [00:00<00:00,      171B/s]\u001b[A\n",
      "1 file pushed                                                                   \u001b[A\n",
      "\u001b[0m"
     ]
    }
   ],
   "source": [
    "!dvc push datasets/example.csv"
   ]
  },
  {
   "cell_type": "markdown",
   "metadata": {},
   "source": [
    "## Workflow for Updating Dataset Versions\n",
    "\n",
    "Assemble the latest dataset."
   ]
  },
  {
   "cell_type": "code",
   "execution_count": 18,
   "metadata": {},
   "outputs": [],
   "source": [
    "df = pd.DataFrame({\"x\": [5, 4, 3, 2, 1], \"z\": [\"e\", \"d\", \"c\", \"b\", \"q\"]})\n",
    "df.to_csv(\"datasets/example.csv\", index=False)"
   ]
  },
  {
   "cell_type": "code",
   "execution_count": 20,
   "metadata": {},
   "outputs": [
    {
     "name": "stdout",
     "output_type": "stream",
     "text": [
      "\u001b[?25l                                                                          \u001b[32m⠋\u001b[0m Checking graph\n",
      "Adding...                                                                       \n",
      "!\u001b[A\n",
      "  0%|          |.3Catcx2tcfkEdcYYi49FWo.tmp        0.00/? [00:00<?,        ?B/s]\u001b[A\n",
      "  0%|          |.3Catcx2tcfkEdcYYi49FWo.tmp     0.00/4.00 [00:00<?,        ?B/s]\u001b[A\n",
      "100% Adding...|███████████████████████████████████████|1/1 [00:00, 117.25file/s]\u001b[A\n",
      "\n",
      "To track the changes with git, run:\n",
      "\n",
      "    git add datasets/example.csv.dvc\n",
      "\n",
      "To enable auto staging, run:\n",
      "\n",
      "\tdvc config core.autostage true\n",
      "\u001b[0m[dvc c78de9c] Added dataset v2\n",
      " 1 file changed, 1 insertion(+), 1 deletion(-)\n",
      "Everything is up to date.                                                       \n",
      "\u001b[0m"
     ]
    }
   ],
   "source": [
    "!dvc add datasets/example.csv\n",
    "!git add datasets/example.csv.dvc\n",
    "!git commit -m \"Added dataset v2\"\n",
    "!dvc push"
   ]
  },
  {
   "cell_type": "markdown",
   "metadata": {},
   "source": [
    "Note that 'auto staging' can be configured so that the `git add` can be omitted."
   ]
  },
  {
   "cell_type": "markdown",
   "metadata": {},
   "source": [
    "## Fetching Old Dataset Versions\n",
    "\n",
    "Start by listing the Git commits."
   ]
  },
  {
   "cell_type": "code",
   "execution_count": 21,
   "metadata": {},
   "outputs": [
    {
     "name": "stdout",
     "output_type": "stream",
     "text": [
      "M\tdvc/data_and_model_versioning.ipynb\n",
      "M\tpytorch/MNIST.ipynb\n",
      "M\tpytorch/linear_regression_sgd.ipynb\n",
      "M\tpytorch/logistic_regression_sgd.ipynb\n",
      "M\tpytorch/requirements.txt\n",
      "Note: switching to '9360cd7'.\n",
      "\n",
      "You are in 'detached HEAD' state. You can look around, make experimental\n",
      "changes and commit them, and you can discard any commits you make in this\n",
      "state without impacting any branches by switching back to a branch.\n",
      "\n",
      "If you want to create a new branch to retain commits you create, you may\n",
      "do so (now or later) by using -c with the switch command. Example:\n",
      "\n",
      "  git switch -c <new-branch-name>\n",
      "\n",
      "Or undo this operation with:\n",
      "\n",
      "  git switch -\n",
      "\n",
      "Turn off this advice by setting config variable advice.detachedHead to false\n",
      "\n",
      "HEAD is now at 9360cd7 First DVC demo.\n",
      "  0% Checkout|                                       |0/1 [00:00<?,     ?file/s]\n",
      "!\u001b[A\n",
      "  0%|          |.cihz3NpRoEeBjiXnsPygBA.tmp        0.00/? [00:00<?,        ?B/s]\u001b[A\n",
      "  0%|          |.cihz3NpRoEeBjiXnsPygBA.tmp     0.00/4.00 [00:00<?,        ?B/s]\u001b[A\n",
      "\u001b[33mM\u001b[0m       datasets/example.csv                                           \u001b[A\n",
      "\u001b[0m,x,z\n",
      "0,1,a\n",
      "1,2,b\n",
      "2,3,c\n",
      "3,4,d\n",
      "4,5,e\n"
     ]
    }
   ],
   "source": [
    "!git checkout 9360cd7\n",
    "!dvc checkout\n",
    "!cat datasets/example.csv"
   ]
  },
  {
   "cell_type": "markdown",
   "metadata": {},
   "source": [
    "And reverting back again..."
   ]
  },
  {
   "cell_type": "code",
   "execution_count": 22,
   "metadata": {},
   "outputs": [
    {
     "name": "stdout",
     "output_type": "stream",
     "text": [
      "M\tdvc/data_and_model_versioning.ipynb\n",
      "M\tpytorch/MNIST.ipynb\n",
      "M\tpytorch/linear_regression_sgd.ipynb\n",
      "M\tpytorch/logistic_regression_sgd.ipynb\n",
      "M\tpytorch/requirements.txt\n",
      "Previous HEAD position was 9360cd7 First DVC demo.\n",
      "Switched to branch 'dvc'\n",
      "  0% Checkout|                                       |0/1 [00:00<?,     ?file/s]\n",
      "!\u001b[A\n",
      "  0%|          |.cn9FrU5cbyJMnyCJxcFfj9.tmp        0.00/? [00:00<?,        ?B/s]\u001b[A\n",
      "  0%|          |.cn9FrU5cbyJMnyCJxcFfj9.tmp     0.00/4.00 [00:00<?,        ?B/s]\u001b[A\n",
      "\u001b[33mM\u001b[0m       datasets/example.csv                                           \u001b[A\n",
      "\u001b[0m,x,z\n",
      "0,5,e\n",
      "1,4,d\n",
      "2,3,c\n",
      "3,2,b\n",
      "4,1,q\n"
     ]
    }
   ],
   "source": [
    "!git checkout dvc\n",
    "!dvc checkout\n",
    "!cat datasets/example.csv"
   ]
  },
  {
   "cell_type": "markdown",
   "metadata": {},
   "source": [
    "## Thoughts and Conclusions\n",
    "\n",
    "It feels to me as if the Git repo used by DVC may benefit from being standalone and not part of any code repo?"
   ]
  },
  {
   "cell_type": "markdown",
   "metadata": {},
   "source": []
  }
 ],
 "metadata": {
  "interpreter": {
   "hash": "e774977668b7c0ae8309835a5187aa7fbf7669e7d0bb59755bc63e573643edcd"
  },
  "kernelspec": {
   "display_name": "Python 3.7.1 64-bit",
   "language": "python",
   "name": "python3"
  },
  "language_info": {
   "codemirror_mode": {
    "name": "ipython",
    "version": 3
   },
   "file_extension": ".py",
   "mimetype": "text/x-python",
   "name": "python",
   "nbconvert_exporter": "python",
   "pygments_lexer": "ipython3",
   "version": "3.9.10"
  },
  "orig_nbformat": 4
 },
 "nbformat": 4,
 "nbformat_minor": 2
}
