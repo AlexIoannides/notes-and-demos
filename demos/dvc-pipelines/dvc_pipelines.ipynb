{
 "cells": [
  {
   "cell_type": "markdown",
   "metadata": {},
   "source": [
    "# DVC Pipelines\n",
    "\n",
    "Orchestrating data science workflows and tracking computation artefacts and their lineage, using DVC."
   ]
  },
  {
   "cell_type": "markdown",
   "metadata": {},
   "source": [
    "## Initialise the Project"
   ]
  },
  {
   "cell_type": "code",
   "execution_count": 1,
   "metadata": {},
   "outputs": [
    {
     "name": "stdout",
     "output_type": "stream",
     "text": [
      "Initialized DVC repository.\n",
      "\n",
      "You can now commit the changes to git.\n",
      "\n",
      "\u001b[31m+---------------------------------------------------------------------+\n",
      "\u001b[0m\u001b[31m|\u001b[0m                                                                     \u001b[31m|\u001b[0m\n",
      "\u001b[31m|\u001b[0m        DVC has enabled anonymous aggregate usage analytics.         \u001b[31m|\u001b[0m\n",
      "\u001b[31m|\u001b[0m     Read the analytics documentation (and how to opt-out) here:     \u001b[31m|\u001b[0m\n",
      "\u001b[31m|\u001b[0m             <\u001b[36mhttps://dvc.org/doc/user-guide/analytics\u001b[39m>              \u001b[31m|\u001b[0m\n",
      "\u001b[31m|\u001b[0m                                                                     \u001b[31m|\u001b[0m\n",
      "\u001b[31m+---------------------------------------------------------------------+\n",
      "\u001b[0m\n",
      "\u001b[33mWhat's next?\u001b[39m\n",
      "\u001b[33m------------\u001b[39m\n",
      "- Check out the documentation: <\u001b[36mhttps://dvc.org/doc\u001b[39m>\n",
      "- Get help and share ideas: <\u001b[36mhttps://dvc.org/chat\u001b[39m>\n",
      "- Star us on GitHub: <\u001b[36mhttps://github.com/iterative/dvc\u001b[39m>\n",
      "\u001b[0m"
     ]
    }
   ],
   "source": [
    "!dvc init --subdir"
   ]
  },
  {
   "cell_type": "markdown",
   "metadata": {},
   "source": [
    "## Setup a Remote Artefact Location"
   ]
  },
  {
   "cell_type": "code",
   "execution_count": 2,
   "metadata": {},
   "outputs": [
    {
     "name": "stdout",
     "output_type": "stream",
     "text": [
      "Setting 's3' as a default remote.\n",
      "\u001b[0m"
     ]
    }
   ],
   "source": [
    "!dvc remote add -d s3 s3://dvc-example-artefacts/pipelines"
   ]
  },
  {
   "cell_type": "markdown",
   "metadata": {},
   "source": [
    "## Define the Pipeline\n",
    "\n",
    "The pipeline is defined in a YAML file, which is reproduced below. This is all that is required to get DVC to track the various artefacts and metrics."
   ]
  },
  {
   "cell_type": "code",
   "execution_count": 3,
   "metadata": {},
   "outputs": [
    {
     "name": "stdout",
     "output_type": "stream",
     "text": [
      "stages:\n",
      "  get_data:\n",
      "    cmd: python stages/get_data.py\n",
      "    deps:\n",
      "      - stages/get_data.py\n",
      "    outs:\n",
      "      - artefacts/dataset.csv\n",
      "  train_model:\n",
      "    cmd: python stages/train_model.py\n",
      "    deps:\n",
      "      - artefacts/dataset.csv\n",
      "      - stages/get_data.py\n",
      "    params:\n",
      "      - train.random_state\n",
      "    outs:\n",
      "      - artefacts/model.joblib\n",
      "    metrics:\n",
      "      - metrics/metrics.json:\n",
      "          cache: false\n",
      "  "
     ]
    }
   ],
   "source": [
    "!cat dvc.yaml"
   ]
  },
  {
   "cell_type": "markdown",
   "metadata": {},
   "source": [
    "The implied DAG can be reproduced as follows,"
   ]
  },
  {
   "cell_type": "code",
   "execution_count": 4,
   "metadata": {},
   "outputs": [
    {
     "name": "stdout",
     "output_type": "stream",
     "text": [
      "  +----------+   \n",
      "  | get_data |   \n",
      "  +----------+   \n",
      "        *        \n",
      "        *        \n",
      "        *        \n",
      "+-------------+  \n",
      "| train_model |  \n",
      "+-------------+  \n",
      "\u001b[0m"
     ]
    }
   ],
   "source": [
    "!dvc dag"
   ]
  },
  {
   "cell_type": "markdown",
   "metadata": {},
   "source": [
    "### Run the Pipeline\n",
    "\n",
    "The pipeline can be run with one command,"
   ]
  },
  {
   "cell_type": "code",
   "execution_count": 6,
   "metadata": {},
   "outputs": [
    {
     "name": "stdout",
     "output_type": "stream",
     "text": [
      "Stage 'get_data' didn't change, skipping                              core\u001b[39m>\n",
      "Running stage 'train_model':\n",
      "> python stages/train_model.py\n",
      "Updating lock file 'dvc.lock'                                                   \n",
      "\n",
      "To track the changes with git, run:\n",
      "\n",
      "    git add dvc.lock\n",
      "\n",
      "To enable auto staging, run:\n",
      "\n",
      "\tdvc config core.autostage true\n",
      "Use `dvc push` to send your updates to remote storage.\n",
      "\u001b[0m"
     ]
    }
   ],
   "source": [
    "!dvc repro"
   ]
  },
  {
   "cell_type": "markdown",
   "metadata": {},
   "source": [
    "### Version Control the Artefacts and Metrics"
   ]
  },
  {
   "cell_type": "code",
   "execution_count": 9,
   "metadata": {},
   "outputs": [
    {
     "name": "stdout",
     "output_type": "stream",
     "text": [
      "[dvc 3cc326d] Pipeline run #1\n",
      " 1 file changed, 31 insertions(+)\n",
      " create mode 100644 dvc-pipelines/dvc.lock\n",
      "  0% Transferring|                                   |0/2 [00:00<?,     ?file/s]\n",
      "!\u001b[A\n",
      "  0%|          |f7f0dc59a7a416f004a31ab305f320     0.00/? [00:00<?,        ?B/s]\u001b[A\n",
      "  0%|          |f7f0dc59a7a416f004a31ab305f320   0.00/849 [00:00<?,        ?B/s]\u001b[A\n",
      "\n",
      "!\u001b[A\u001b[A\n",
      "\n",
      "  0%|          |e47ada0122c0951fcc98bc1e26ca50     0.00/? [00:00<?,        ?B/s]\u001b[A\u001b[A\n",
      "\n",
      "  0%|          |e47ada0122c0951fcc98bc1e26ca50 0.00/38.0k [00:00<?,        ?B/s]\u001b[A\u001b[A\n",
      "100%|██████████|f7f0dc59a7a416f004a31ab305f320849/849 [00:00<00:00,    4.39kB/s]\u001b[A\n",
      " 50% Transferring|███████████████▌               |1/2 [00:00<00:00,  2.92file/s]\u001b[A\n",
      "\n",
      "100%|██████████|e47ada0122c0951fcc98bc1e2638.0k/38.0k [00:00<00:00,     142kB/s]\u001b[A\u001b[A\n",
      "\n",
      "2 files pushed                                                                  \u001b[A\u001b[A\n",
      "\u001b[0m"
     ]
    }
   ],
   "source": [
    "!git add dvc.lock\n",
    "!git commit -m \"Pipeline run #1\"\n",
    "!dvc push\n"
   ]
  },
  {
   "cell_type": "markdown",
   "metadata": {},
   "source": [
    "## Displaying Metrics\n",
    "\n",
    "All metrics can be retrieved wth one command."
   ]
  },
  {
   "cell_type": "code",
   "execution_count": 10,
   "metadata": {},
   "outputs": [
    {
     "name": "stdout",
     "output_type": "stream",
     "text": [
      "Path                  MAE                                             core\u001b[39m>\n",
      "metrics/metrics.json  0.07843\n",
      "\u001b[0m"
     ]
    }
   ],
   "source": [
    "!dvc metrics show"
   ]
  },
  {
   "cell_type": "markdown",
   "metadata": {},
   "source": [
    "## Thoughts and Conclusions\n",
    "\n",
    "It's worth noting that running `dvc pull` on a clone of this repository will pull the latest version of all the files from S3 and into the local directory. Use `dvc import` if the initial dataset exists in a different repo (e.g., in a dedicated DVC data registry)."
   ]
  },
  {
   "cell_type": "code",
   "execution_count": null,
   "metadata": {},
   "outputs": [],
   "source": []
  }
 ],
 "metadata": {
  "interpreter": {
   "hash": "987e84b61ca586f547249aca212092efca8fa298fbf7c8c765b7e3841d31be6a"
  },
  "kernelspec": {
   "display_name": "Python 3.9.10 ('.venv': venv)",
   "language": "python",
   "name": "python3"
  },
  "language_info": {
   "codemirror_mode": {
    "name": "ipython",
    "version": 3
   },
   "file_extension": ".py",
   "mimetype": "text/x-python",
   "name": "python",
   "nbconvert_exporter": "python",
   "pygments_lexer": "ipython3",
   "version": "3.9.10"
  },
  "orig_nbformat": 4
 },
 "nbformat": 4,
 "nbformat_minor": 2
}
