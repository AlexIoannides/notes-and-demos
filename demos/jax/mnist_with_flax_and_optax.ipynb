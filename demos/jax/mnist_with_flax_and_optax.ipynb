{
 "cells": [
  {
   "cell_type": "markdown",
   "metadata": {},
   "source": [
    "# Deep Learning with Flax\n",
    "\n",
    "[Flax](https://flax.readthedocs.io/en/latest/) and [Optax](https://optax.readthedocs.io/en/latest/) are libraries for deep learning, written in Jax and maintained by Google. This notebook demonstrates how to use these libraries to build a model on the MNIST dataset."
   ]
  },
  {
   "cell_type": "markdown",
   "metadata": {},
   "source": [
    "## Imports and Configuration"
   ]
  },
  {
   "cell_type": "code",
   "execution_count": null,
   "metadata": {},
   "outputs": [],
   "source": [
    "import warnings\n",
    "from typing import Any, Dict, Tuple\n",
    "\n",
    "import flax.linen as nn\n",
    "import jax\n",
    "import optax\n",
    "import torchvision\n",
    "from flax.training.train_state import TrainState\n",
    "from jax import random, numpy as jnp\n",
    "from matplotlib import pyplot as plt\n",
    "from torch.utils.data import DataLoader\n",
    "\n",
    "warnings.simplefilter(\"ignore\")"
   ]
  },
  {
   "cell_type": "markdown",
   "metadata": {},
   "source": [
    "## Get Dataset\n",
    "\n",
    "We will lean on PyTorch's datasets and loaders."
   ]
  },
  {
   "cell_type": "code",
   "execution_count": 2,
   "metadata": {},
   "outputs": [
    {
     "name": "stdout",
     "output_type": "stream",
     "text": [
      "60,000 instances of training data\n",
      "10,000 instances of training data\n"
     ]
    }
   ],
   "source": [
    "import numpy as np\n",
    "\n",
    "\n",
    "def flatten_and_cast(x: Any) -> jnp.ndarray:\n",
    "    return jnp.ravel(jnp.array(x, dtype=jnp.float32))\n",
    "\n",
    "\n",
    "def numpy_collate(batch):\n",
    "    if isinstance(batch[0], np.ndarray):\n",
    "        return np.stack(batch)\n",
    "    elif isinstance(batch[0], (tuple, list)):\n",
    "        transposed = zip(*batch)\n",
    "        return [numpy_collate(samples) for samples in transposed]\n",
    "    else:\n",
    "        return np.array(batch)\n",
    "\n",
    "\n",
    "train_data = torchvision.datasets.MNIST(\n",
    "    root=\"./data\", train=True, download=True, transform=flatten_and_cast\n",
    ")\n",
    "\n",
    "test_data = torchvision.datasets.MNIST(\n",
    "    root=\"./data\", train=False, download=True, transform=flatten_and_cast\n",
    ")\n",
    "\n",
    "training_data_loader = DataLoader(\n",
    "    dataset=train_data, batch_size=500, collate_fn=numpy_collate\n",
    ")\n",
    "test_data_loader = DataLoader(\n",
    "    dataset=test_data, batch_size=1000, collate_fn=numpy_collate\n",
    ")\n",
    "print(f\"{len(train_data):,} instances of training data\")\n",
    "print(f\"{len(test_data):,} instances of training data\")"
   ]
  },
  {
   "cell_type": "markdown",
   "metadata": {},
   "source": [
    "Inspect a single instance of training data."
   ]
  },
  {
   "cell_type": "code",
   "execution_count": 3,
   "metadata": {},
   "outputs": [
    {
     "name": "stdout",
     "output_type": "stream",
     "text": [
      "label = 5\n"
     ]
    },
    {
     "data": {
      "image/png": "[encoded data removed]",
      "text/plain": [
       "<Figure size 640x480 with 1 Axes>"
      ]
     },
     "metadata": {},
     "output_type": "display_data"
    }
   ],
   "source": [
    "data_instance, data_label = train_data[0]\n",
    "print(f\"label = {data_label}\")\n",
    "_ = plt.imshow(data_instance.reshape(28, 28), cmap=\"gray\")"
   ]
  },
  {
   "cell_type": "markdown",
   "metadata": {},
   "source": [
    "## Define Simple Neural Network Classification Model\n",
    "\n",
    "Start by defining the network that we want to train."
   ]
  },
  {
   "cell_type": "code",
   "execution_count": 4,
   "metadata": {},
   "outputs": [
    {
     "data": {
      "text/plain": [
       "MLP(\n",
       "    # attributes\n",
       "    n_hidden = 784\n",
       "    n_classes = 10\n",
       ")"
      ]
     },
     "execution_count": 4,
     "metadata": {},
     "output_type": "execute_result"
    }
   ],
   "source": [
    "class MLP(nn.Module):\n",
    "    n_hidden: int\n",
    "    n_classes: int\n",
    "\n",
    "    @nn.compact\n",
    "    def __call__(self, x):\n",
    "        x = nn.Dense(self.n_hidden, name=\"hidden_layer\")(x)\n",
    "        x = nn.relu(x)\n",
    "        x = nn.Dense(self.n_classes, name=\"output_layer\")(x)\n",
    "        return x\n",
    "\n",
    "\n",
    "model = MLP(28 * 28, 10)\n",
    "model"
   ]
  },
  {
   "cell_type": "markdown",
   "metadata": {},
   "source": [
    "And then the training routine to use with it."
   ]
  },
  {
   "cell_type": "code",
   "execution_count": 5,
   "metadata": {},
   "outputs": [],
   "source": [
    "def loss(params: optax.Params, X: jnp.ndarray, y: jnp.ndarray) -> jnp.ndarray:\n",
    "    loss_values = optax.softmax_cross_entropy(\n",
    "        model.apply(params, X), jax.nn.one_hot(y, 10)\n",
    "    )\n",
    "    return loss_values.mean()\n",
    "\n",
    "\n",
    "def compute_metrics(training_state: TrainState, X: jnp.ndarray, y: jnp.ndarray):\n",
    "    logits = training_state.apply_fn(training_state.params, X)\n",
    "    loss = optax.softmax_cross_entropy(\n",
    "        logits=logits, labels=jax.nn.one_hot(y, 10)\n",
    "    ).mean()\n",
    "    accuracy = jnp.mean(jnp.argmax(logits, -1) == y)\n",
    "    metrics = {\n",
    "        \"loss\": loss.tolist(),\n",
    "        \"accuracy\": accuracy.tolist(),\n",
    "    }\n",
    "    return metrics\n",
    "\n",
    "\n",
    "def fit(n_epochs: int = 10, learning_rate: float = 0.01) -> optax.Params:\n",
    "    @jax.jit\n",
    "    def process_batch(\n",
    "        training_state: TrainState, X: jnp.ndarray, y: jnp.ndarray\n",
    "    ) -> TrainState:\n",
    "        loss_grads = jax.grad(loss)(training_state.params, X, y)\n",
    "        return training_state.apply_gradients(grads=loss_grads)\n",
    "\n",
    "    def process_epoch(\n",
    "        training_state: TrainState,\n",
    "    ) -> Tuple[TrainState, Dict[str, float]]:\n",
    "        for X, y in training_data_loader:\n",
    "            training_state = process_batch(training_state, X, y)\n",
    "        metrics = compute_metrics(training_state, X, y)\n",
    "        return training_state, metrics\n",
    "\n",
    "    key1, key2 = random.split(random.PRNGKey(0))\n",
    "    training_state = TrainState.create(\n",
    "        apply_fn=model.apply,\n",
    "        params=model.init(key2, random.normal(key1, (28 * 28,))),\n",
    "        tx=optax.sgd(learning_rate=learning_rate),\n",
    "    )\n",
    "\n",
    "    for n in range(n_epochs):\n",
    "        training_state, metrics = process_epoch(training_state)\n",
    "        print(f\"epoch={n}; metrics={metrics}\")\n",
    "    return training_state.params"
   ]
  },
  {
   "cell_type": "code",
   "execution_count": 6,
   "metadata": {},
   "outputs": [
    {
     "name": "stdout",
     "output_type": "stream",
     "text": [
      "epoch=0; metrics={'loss': 0.2294992208480835, 'accuracy': 0.9340000152587891}\n",
      "epoch=1; metrics={'loss': 0.17606227099895477, 'accuracy': 0.9620000720024109}\n",
      "epoch=2; metrics={'loss': 0.15006238222122192, 'accuracy': 0.9700000286102295}\n",
      "epoch=3; metrics={'loss': 0.1338450163602829, 'accuracy': 0.9720000624656677}\n",
      "epoch=4; metrics={'loss': 0.11482236534357071, 'accuracy': 0.9760000705718994}\n",
      "epoch=5; metrics={'loss': 0.10640661418437958, 'accuracy': 0.9780000448226929}\n",
      "epoch=6; metrics={'loss': 0.09827155619859695, 'accuracy': 0.9780000448226929}\n",
      "epoch=7; metrics={'loss': 0.09185998886823654, 'accuracy': 0.9780000448226929}\n",
      "epoch=8; metrics={'loss': 0.08489469438791275, 'accuracy': 0.9800000190734863}\n",
      "epoch=9; metrics={'loss': 0.07957303524017334, 'accuracy': 0.9820000529289246}\n"
     ]
    }
   ],
   "source": [
    "trained_params = fit()"
   ]
  },
  {
   "cell_type": "code",
   "execution_count": 10,
   "metadata": {},
   "outputs": [
    {
     "name": "stdout",
     "output_type": "stream",
     "text": [
      "test_data accuracy = 0.9462\n"
     ]
    }
   ],
   "source": [
    "def predict(X: jnp.ndarray) -> float:\n",
    "    logit = model.apply(trained_params, X)\n",
    "    return jnp.argmax(logit, -1).tolist()\n",
    "\n",
    "\n",
    "correct = 0\n",
    "for X, y in test_data_loader:\n",
    "    y_pred = predict(X)\n",
    "    correct += (y_pred == y).sum()\n",
    "accuracy = correct / len(test_data)\n",
    "print(f\"test_data accuracy = {accuracy}\")"
   ]
  },
  {
   "cell_type": "code",
   "execution_count": 8,
   "metadata": {},
   "outputs": [
    {
     "data": {
      "text/plain": [
       "5"
      ]
     },
     "execution_count": 8,
     "metadata": {},
     "output_type": "execute_result"
    }
   ],
   "source": [
    "predict(data_instance)"
   ]
  }
 ],
 "metadata": {
  "kernelspec": {
   "display_name": "Python 3.10.2 ('.venv': venv)",
   "language": "python",
   "name": "python3"
  },
  "language_info": {
   "codemirror_mode": {
    "name": "ipython",
    "version": 3
   },
   "file_extension": ".py",
   "mimetype": "text/x-python",
   "name": "python",
   "nbconvert_exporter": "python",
   "pygments_lexer": "ipython3",
   "version": "3.10.2"
  },
  "orig_nbformat": 4,
  "vscode": {
   "interpreter": {
    "hash": "9dc4f215462ea912f4965da2670482d3eef22f25452006b3bdce86b7cb4ab1a4"
   }
  }
 },
 "nbformat": 4,
 "nbformat_minor": 2
}
