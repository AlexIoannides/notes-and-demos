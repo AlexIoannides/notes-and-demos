{
 "cells": [
  {
   "cell_type": "markdown",
   "metadata": {},
   "source": [
    "# Introduction to JAX\n",
    "\n",
    "[JAX](https://jax.readthedocs.io/en/latest/index.html) is an advanced scientific computing library for Python. At a very crude level, it's an alternative to Numpy that provides auto-differentiation and Xcellerated Linear Algebra (XLA) that can run on GPUs and TPUs. Unlike Tensorflow and PyTorch, it only operates within a functional programming paradigm, where all functions must be pure (i.e., enforce referential transparency). It is developed and maintained by Google."
   ]
  },
  {
   "cell_type": "markdown",
   "metadata": {},
   "source": [
    "## Imports"
   ]
  },
  {
   "cell_type": "code",
   "execution_count": 1,
   "metadata": {},
   "outputs": [],
   "source": [
    "from typing import List, Tuple\n",
    "\n",
    "import jax\n",
    "import jax.numpy as jnp\n",
    "import numpy as np\n",
    "import pandas as pd\n",
    "import seaborn as sns\n",
    "from tqdm import tqdm"
   ]
  },
  {
   "cell_type": "markdown",
   "metadata": {},
   "source": [
    "## JAX as Accelerated Numpy"
   ]
  },
  {
   "cell_type": "markdown",
   "metadata": {},
   "source": [
    "JAX implements the Numpy API and more-often-than-not it can be used as a stand-in replacement."
   ]
  },
  {
   "cell_type": "code",
   "execution_count": 2,
   "metadata": {},
   "outputs": [
    {
     "data": {
      "text/plain": [
       "DeviceArray([1., 2., 3., 4., 5.], dtype=float32)"
      ]
     },
     "execution_count": 2,
     "metadata": {},
     "output_type": "execute_result"
    }
   ],
   "source": [
    "x = jnp.array([1.0, 2.0, 3.0, 4.0, 5.0])\n",
    "x"
   ]
  },
  {
   "cell_type": "markdown",
   "metadata": {},
   "source": [
    "There are, however, a few subtle differences. Firstly, the output is of type `DeviceArray`, which represents an array on a particular device (CPU, GPU, etc.). To convert this back to raw Numpy, use the `to_py` method."
   ]
  },
  {
   "cell_type": "code",
   "execution_count": 3,
   "metadata": {},
   "outputs": [
    {
     "name": "stderr",
     "output_type": "stream",
     "text": [
      "/Users/alexioannides/Dropbox/work/workspace/python/data-science-and-ml-notebook/.venv_jax/lib/python3.10/site-packages/jax/_src/device_array.py:278: FutureWarning: The .to_py() method on JAX arrays is deprecated. Use np.asarray(...) instead.\n",
      "  warnings.warn(\"The .to_py() method on JAX arrays is deprecated. Use \"\n"
     ]
    },
    {
     "data": {
      "text/plain": [
       "array([1., 2., 3., 4., 5.], dtype=float32)"
      ]
     },
     "execution_count": 3,
     "metadata": {},
     "output_type": "execute_result"
    }
   ],
   "source": [
    "x.to_py()"
   ]
  },
  {
   "cell_type": "markdown",
   "metadata": {},
   "source": [
    "To convert this to raw Python, use the `tolist` method."
   ]
  },
  {
   "cell_type": "code",
   "execution_count": 4,
   "metadata": {},
   "outputs": [
    {
     "data": {
      "text/plain": [
       "[1.0, 2.0, 3.0, 4.0, 5.0]"
      ]
     },
     "execution_count": 4,
     "metadata": {},
     "output_type": "execute_result"
    }
   ],
   "source": [
    "x.tolist()"
   ]
  },
  {
   "cell_type": "markdown",
   "metadata": {},
   "source": [
    "Secondly, when a JAX function is called, the corresponding operation is dispatched to an accelerator to be computed asynchronously when possible. The returned array is therefore not necessarily ‘filled in’ as soon as the function returns. Thus, if we don’t require the result immediately, the computation won’t block Python execution. If the computation is required - e.g., when using the `block_until_ready` method, converting to a Numpy array or printing a result, then the call to the computation will be blocking. See [Asynchronous dispatch](https://jax.readthedocs.io/en/latest/async_dispatch.html#asynchronous-dispatch) in the JAX docs."
   ]
  },
  {
   "cell_type": "code",
   "execution_count": 5,
   "metadata": {},
   "outputs": [],
   "source": [
    "y = jnp.dot(x, x).block_until_ready()"
   ]
  },
  {
   "cell_type": "markdown",
   "metadata": {},
   "source": [
    "Jax functions can also work directly with Numpy arrays and it will copy the data to a `DeviceArray` automatically."
   ]
  },
  {
   "cell_type": "code",
   "execution_count": 6,
   "metadata": {},
   "outputs": [
    {
     "data": {
      "text/plain": [
       "DeviceArray(55., dtype=float32)"
      ]
     },
     "execution_count": 6,
     "metadata": {},
     "output_type": "execute_result"
    }
   ],
   "source": [
    "x_np = np.array([1.0, 2.0, 3.0, 4.0, 5.0])\n",
    "jnp.dot(x_np, x_np).block_until_ready()"
   ]
  },
  {
   "cell_type": "markdown",
   "metadata": {},
   "source": [
    "### Immutability\n",
    "\n",
    "Unlike a Numpy array, is isn't possible to mutate an element in a Jax array as it enforces all of the contraints required by functional programming. Jax does, however, allow you to create new arrays from an in intial array, but with the required elements changed as required."
   ]
  },
  {
   "cell_type": "code",
   "execution_count": 7,
   "metadata": {},
   "outputs": [
    {
     "data": {
      "text/plain": [
       "DeviceArray([ 1., -2.,  3.], dtype=float32)"
      ]
     },
     "execution_count": 7,
     "metadata": {},
     "output_type": "execute_result"
    }
   ],
   "source": [
    "z = jnp.array([1.0, 2.0, 3.0])\n",
    "q = z.at[1].set(-2.0)\n",
    "q"
   ]
  },
  {
   "cell_type": "markdown",
   "metadata": {},
   "source": [
    "## Random Numbers and Automatic Vectorisation\n",
    "\n",
    "Using the function tracing techniques exploited by Jax'x [Just-in-Time (JIT) compiler](https://jax.readthedocs.io/en/latest/jax-101/02-jitting.html), Jax can also automatically vectorise a function, as we will demonstrate below. We start by creating a function that we will want to vectorise.\n",
    "\n",
    "Note the application of random number generation in Jax, which is a [departure from NumPy](https://jax.readthedocs.io/en/latest/jax-101/05-random-numbers.html). This requires us to provide a unique 'key' to a RNG algorithm to explicitly manage the state of the RNG (NumPy manages this automatically based on a single seed)."
   ]
  },
  {
   "cell_type": "code",
   "execution_count": 8,
   "metadata": {},
   "outputs": [
    {
     "data": {
      "text/plain": [
       "DeviceArray(7.5951915, dtype=float32)"
      ]
     },
     "execution_count": 8,
     "metadata": {},
     "output_type": "execute_result"
    }
   ],
   "source": [
    "def mean_projection(x: jnp.DeviceArray, n: int = 100) -> jnp.DeviceArray:\n",
    "    \"\"\"Compute the mean dot product between x and a random vector.\"\"\"\n",
    "    rng_keys = jax.random.split(jax.random.PRNGKey(42), n)\n",
    "    projections = jnp.array(\n",
    "        [jnp.dot(x, jax.random.uniform(key, x.shape)) for key in rng_keys]\n",
    "    )\n",
    "    return jnp.mean(projections)\n",
    "\n",
    "\n",
    "mean_projection(x)"
   ]
  },
  {
   "cell_type": "markdown",
   "metadata": {},
   "source": [
    "We can vectorise this function using Jax's `vmap` function."
   ]
  },
  {
   "cell_type": "code",
   "execution_count": 9,
   "metadata": {},
   "outputs": [
    {
     "data": {
      "text/plain": [
       "DeviceArray([7.5951915, 7.5951915, 7.5951915], dtype=float32)"
      ]
     },
     "execution_count": 9,
     "metadata": {},
     "output_type": "execute_result"
    }
   ],
   "source": [
    "mean_projection_vect = jax.vmap(mean_projection)\n",
    "\n",
    "xs = jnp.stack([x, x, x])\n",
    "mean_projection_vect(xs)"
   ]
  },
  {
   "cell_type": "markdown",
   "metadata": {},
   "source": [
    "Note, that if we wanted to distribute the vectorisation across devices (e.g., GPU and/or TPU cores), then we would use the `pmap` function instead of `vmap`."
   ]
  },
  {
   "cell_type": "markdown",
   "metadata": {},
   "source": [
    "## Mapping over Ragged Collections with `pytrees`\n",
    "\n",
    "Jax will allow you to map a function over an arbitariilty nested set of collections."
   ]
  },
  {
   "cell_type": "code",
   "execution_count": 10,
   "metadata": {},
   "outputs": [
    {
     "data": {
      "text/plain": [
       "{'bar': {'1': [2.0, 3.0]}, 'foo': [1.0, 2.0, 3.0, (2.0, 3.0)]}"
      ]
     },
     "execution_count": 10,
     "metadata": {},
     "output_type": "execute_result"
    }
   ],
   "source": [
    "params = {\"foo\": [1.0, 2, 3, (\"2\", \"3\")], \"bar\": {\"1\": [2.0, \"3\"]}}\n",
    "\n",
    "jax.tree_map(lambda e: float(e), params)"
   ]
  },
  {
   "cell_type": "markdown",
   "metadata": {},
   "source": [
    "## Auto-Differentiation\n",
    "\n",
    "Auto-differentiation is Jax follows a functional programming paradigm. For example, consider the following example from PyTorch,\n",
    "\n",
    "```python\n",
    "import torch\n",
    "\n",
    "x = torch.tensor(2., requires_grad=True)\n",
    "y = x ** 2\n",
    "y.backward()\n",
    "x.grad\n",
    "\n",
    "# tensor(4.)\n",
    "```\n",
    "\n",
    "This pattern is imperative and functional. In Jax this would be implemented as follows,"
   ]
  },
  {
   "cell_type": "code",
   "execution_count": 11,
   "metadata": {},
   "outputs": [
    {
     "data": {
      "text/plain": [
       "DeviceArray(4., dtype=float32, weak_type=True)"
      ]
     },
     "execution_count": 11,
     "metadata": {},
     "output_type": "execute_result"
    }
   ],
   "source": [
    "def x_squared(x: jnp.DeviceArray) -> jnp.DeviceArray:\n",
    "    return x**2\n",
    "\n",
    "\n",
    "x_squared_dx = jax.grad(x_squared)\n",
    "x_squared_dx(jnp.array(2.0))"
   ]
  },
  {
   "cell_type": "markdown",
   "metadata": {},
   "source": [
    "We can easily extrapolate this example to a simple gradient descent problem."
   ]
  },
  {
   "cell_type": "code",
   "execution_count": 12,
   "metadata": {},
   "outputs": [
    {
     "name": "stderr",
     "output_type": "stream",
     "text": [
      "100%|██████████| 50/50 [00:00<00:00, 847.60it/s]"
     ]
    },
    {
     "name": "stdout",
     "output_type": "stream",
     "text": [
      "x = 2.00\n"
     ]
    },
    {
     "name": "stderr",
     "output_type": "stream",
     "text": [
      "\n"
     ]
    },
    {
     "data": {
      "image/png": "[encoded data removed]",
      "text/plain": [
       "<Figure size 640x480 with 1 Axes>"
      ]
     },
     "metadata": {},
     "output_type": "display_data"
    }
   ],
   "source": [
    "def f(x: jnp.DeviceArray) -> jnp.DeviceArray:\n",
    "    return (x - 2) ** 2\n",
    "\n",
    "\n",
    "n_iterations = 50\n",
    "eta = 0.1\n",
    "\n",
    "x = jnp.array(-3.5)\n",
    "x_hist: List[Tuple[int, float]] = []\n",
    "\n",
    "for n in tqdm(range(n_iterations)):\n",
    "    x_hist.append((n, x.tolist()))\n",
    "    x -= eta * jax.grad(f)(x)\n",
    "\n",
    "print(f\"x = {x:.2f}\")\n",
    "_ = sns.lineplot(y=\"x\", x=\"n\", data=pd.DataFrame(x_hist, columns=[\"n\", \"x\"]))"
   ]
  },
  {
   "cell_type": "markdown",
   "metadata": {},
   "source": [
    "Which is simpler than the PyTorch equivalent,\n",
    "\n",
    "```python\n",
    "def f(x: torch.Tensor) -> torch.Tensor:\n",
    "    return (x - 2) ** 2\n",
    "\n",
    "\n",
    "n_iterations = 50\n",
    "eta = 0.1\n",
    "\n",
    "x = torch.tensor([-3.5], requires_grad=True)\n",
    "x_hist: List[Tuple[int, float]] = []\n",
    "\n",
    "for n in tqdm(range(n_iterations)):\n",
    "    x_hist.append((n, x.detach().numpy()[0]))\n",
    "    f(x).backward()\n",
    "    x.data -= eta * x.grad\n",
    "    x.grad.zero_()\n",
    "\n",
    "print(f\"x = {x.detach().numpy()[0]:.2f}\")\n",
    "_ = sns.lineplot(\n",
    "    y=\"x\", x=\"n\", data=pd.DataFrame(x_hist, columns=[\"n\", \"x\"])\n",
    ")\n",
    "```\n",
    "\n",
    "Because PyTorch needs to handle state (of a function and its gradients)."
   ]
  },
  {
   "cell_type": "markdown",
   "metadata": {},
   "source": [
    "We can extended this to more complex vector-valued functions, where the `grad` operator will behave like the [$\\nabla$ operator](https://en.wikipedia.org/wiki/Del) in formal calculus."
   ]
  },
  {
   "cell_type": "code",
   "execution_count": 13,
   "metadata": {},
   "outputs": [
    {
     "name": "stdout",
     "output_type": "stream",
     "text": [
      "sum-of-squares = 55.0\n",
      "d sum-of-squares / dx = [ 2.  4.  6.  8. 10.]\n"
     ]
    }
   ],
   "source": [
    "def sum_of_squares(x: jnp.DeviceArray) -> jnp.DeviceArray:\n",
    "    return jnp.sum(x**2)\n",
    "\n",
    "\n",
    "sum_of_squares_dx = jax.grad(sum_of_squares)\n",
    "\n",
    "x = jnp.array([1.0, 2.0, 3.0, 4.0, 5.0])\n",
    "print(f\"sum-of-squares = {sum_of_squares(x)}\")\n",
    "print(f\"d sum-of-squares / dx = {sum_of_squares_dx(x)}\")"
   ]
  },
  {
   "cell_type": "markdown",
   "metadata": {},
   "source": [
    "By default, the `grad` operator will only compute derivatives relative to a function's first argument. To extend this to other arguments we use `argnums`."
   ]
  },
  {
   "cell_type": "code",
   "execution_count": 14,
   "metadata": {},
   "outputs": [
    {
     "name": "stdout",
     "output_type": "stream",
     "text": [
      "sum-of-squared-errors = 0.5500001907348633\n",
      "d sum-of-squared-errors / dx = [-0.20000005 -0.4000001  -0.6000004  -0.8000002  -1.        ]\n",
      "d sum-of-squared-errors / dy = [0.20000005 0.4000001  0.6000004  0.8000002  1.        ]\n"
     ]
    }
   ],
   "source": [
    "def sum_of_squared_errors(x: jnp.DeviceArray, y: jnp.DeviceArray) -> jnp.DeviceArray:\n",
    "    return jnp.sum((x - y) ** 2)\n",
    "\n",
    "\n",
    "sum_of_squared_errors_dx = jax.grad(sum_of_squared_errors, argnums=(0, 1))\n",
    "\n",
    "x = jnp.array([1.0, 2.0, 3.0, 4.0, 5.0])\n",
    "print(f\"sum-of-squared-errors = {sum_of_squared_errors(x, x*1.1)}\")\n",
    "print(f\"d sum-of-squared-errors / dx = {sum_of_squared_errors_dx(x, x*1.1)[0]}\")\n",
    "print(f\"d sum-of-squared-errors / dy = {sum_of_squared_errors_dx(x, x*1.1)[1]}\")"
   ]
  },
  {
   "cell_type": "markdown",
   "metadata": {},
   "source": [
    "The `grad` function is also enabled to allow us to return a tuple with non-derivative values, via the `has_aux` argument, and there is also a `value_and_grad` alternative to `grad` that return the function value as well as the derivates."
   ]
  }
 ],
 "metadata": {
  "kernelspec": {
   "display_name": ".venv_jax",
   "language": "python",
   "name": "python3"
  },
  "language_info": {
   "codemirror_mode": {
    "name": "ipython",
    "version": 3
   },
   "file_extension": ".py",
   "mimetype": "text/x-python",
   "name": "python",
   "nbconvert_exporter": "python",
   "pygments_lexer": "ipython3",
   "version": "3.10.2"
  },
  "orig_nbformat": 4,
  "vscode": {
   "interpreter": {
    "hash": "e33853583474903081120a07866d47fe0369530de05e0b7d984e62f3a431e953"
   }
  }
 },
 "nbformat": 4,
 "nbformat_minor": 2
}
