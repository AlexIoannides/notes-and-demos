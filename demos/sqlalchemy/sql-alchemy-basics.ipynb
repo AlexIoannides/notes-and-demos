{
 "cells": [
  {
   "cell_type": "markdown",
   "id": "1f915188-324f-41bf-95dc-20d24c9da2f3",
   "metadata": {},
   "source": [
    "# SQL Alchemy for Beginners\n",
    "\n",
    "An introduction to the core features of SQL Alchemy for Object Relational Mapping (ORM) in Python, together with Alembic for managing migrations."
   ]
  },
  {
   "cell_type": "markdown",
   "id": "38826898-91e2-4a94-8a8c-ba67c9715d21",
   "metadata": {},
   "source": [
    "## Initialise Alembic"
   ]
  },
  {
   "cell_type": "code",
   "execution_count": 1,
   "id": "eb3f6893-697c-45c3-ae99-6857f051c907",
   "metadata": {},
   "outputs": [
    {
     "name": "stdout",
     "output_type": "stream",
     "text": [
      "  Creating directory\n",
      "  /Users/alexioannides/Dropbox/data_science/workspace/python/data-science-and-ml-\n",
      "  notebook/sqlalchemy/migrations ...  done\n",
      "  Creating directory\n",
      "  /Users/alexioannides/Dropbox/data_science/workspace/python/data-science-and-ml-\n",
      "  notebook/sqlalchemy/migrations/versions ...  done\n",
      "  Generating /Users/alexioannides/Dropbox/data_science/workspace/python/data-\n",
      "  science-and-ml-notebook/sqlalchemy/migrations/script.py.mako ...  done\n",
      "  Generating /Users/alexioannides/Dropbox/data_science/workspace/python/data-\n",
      "  science-and-ml-notebook/sqlalchemy/migrations/env.py ...  done\n",
      "  Generating /Users/alexioannides/Dropbox/data_science/workspace/python/data-\n",
      "  science-and-ml-notebook/sqlalchemy/migrations/README ...  done\n",
      "  File /Users/alexioannides/Dropbox/data_science/workspace/python/data-science-\n",
      "  and-ml-notebook/sqlalchemy/alembic.ini already exists, skipping\n",
      "  Please edit configuration/connection/logging settings in\n",
      "  '/Users/alexioannides/Dropbox/data_science/workspace/python/data-science-and-ml-\n",
      "  notebook/sqlalchemy/alembic.ini' before proceeding.\n"
     ]
    }
   ],
   "source": [
    "!alembic init migrations"
   ]
  },
  {
   "cell_type": "markdown",
   "id": "8bf67f77-cd45-49d5-9a28-921c2f28c167",
   "metadata": {},
   "source": [
    "Change the following in `alembic.ini` before proceeding:\n",
    "\n",
    "```python\n",
    "sqlalchemy.url = sqlite:///data.db\n",
    "```"
   ]
  },
  {
   "cell_type": "markdown",
   "id": "01c249cd-11b3-4f02-886d-3022ff29fe6b",
   "metadata": {},
   "source": [
    "## Define Models using Classes\n",
    "\n",
    "These are contained in `models.py` - they need to be imported by `migrations/env.py`, so they can't be defined within a Jupyter notebook. We reproduce the contents of `models.py` here for convenience.\n",
    "\n",
    "```python\n",
    "\"\"\"\n",
    "All data Models can be found here.\n",
    "\"\"\"\n",
    "from typing import Any, Dict\n",
    "\n",
    "from sqlalchemy import (\n",
    "    Column,\n",
    "    Float,\n",
    "    Integer,\n",
    "    String,\n",
    "    ForeignKey\n",
    ")\n",
    "from sqlalchemy.ext.declarative import declarative_base\n",
    "from sqlalchemy.orm import relationship\n",
    "\n",
    "Base = declarative_base()\n",
    "\n",
    "\n",
    "class Person(Base):\n",
    "    \"\"\"Personal information.\"\"\"\n",
    "    \n",
    "    __tablename__ = \"person\"\n",
    "    \n",
    "    id = Column(Integer, primary_key=True, autoincrement=True)\n",
    "    address_id = Column(Integer, ForeignKey(\"address.id\"))\n",
    "    name = Column(String, nullable=False)\n",
    "    age = Column(Float, nullable=False)\n",
    "    \n",
    "    address = relationship(\"Address\", back_populates=\"person\")\n",
    "\n",
    "    def dict(self) -> Dict[str, Any]:\n",
    "        return {\n",
    "            \"id\": self.id,\n",
    "            \"address_id\": self.address_id,\n",
    "            \"name\": self.name,\n",
    "            \"age\": self.age\n",
    "        }\n",
    "\n",
    "\n",
    "class Address(Base):\n",
    "    \"\"\"Address information.\"\"\"\n",
    "    \n",
    "    __tablename__ = \"address\"\n",
    "    \n",
    "    id = Column(Integer, primary_key=True, autoincrement=True)\n",
    "    street = Column(String, nullable=False)\n",
    "    city = Column(String, nullable=False)\n",
    "    postcode = Column(String, nullable=False)\n",
    "\n",
    "    person = relationship(\"Person\", back_populates=\"address\")\n",
    "    \n",
    "    def dict(self) -> Dict[str, Any]:\n",
    "        return {\n",
    "            \"id\": self.id,\n",
    "            \"street\": self.street,\n",
    "            \"city\": self.city,\n",
    "            \"postcode\": self.postcode\n",
    "        }\n",
    "```"
   ]
  },
  {
   "cell_type": "markdown",
   "id": "d0d188f7-575a-4e5e-b5d2-c88b67bc8b8d",
   "metadata": {},
   "source": [
    "### Apply Models to the Database\n",
    "\n",
    "Modify `migrations/env.py` as follows,\n",
    "\n",
    "```python\n",
    "# ...\n",
    "\n",
    "# add your model's MetaData object here\n",
    "# for 'autogenerate' support\n",
    "from models import Base\n",
    "target_metadata = Base.metadata\n",
    "\n",
    "# ...\n",
    "```\n",
    "\n",
    "And then we're ready for Alembic to setup the database schema for us. We start by creating the migrations."
   ]
  },
  {
   "cell_type": "code",
   "execution_count": 2,
   "id": "12b212c7-38d6-4577-968d-7264d5c0a14f",
   "metadata": {},
   "outputs": [
    {
     "name": "stdout",
     "output_type": "stream",
     "text": [
      "INFO  [alembic.runtime.migration] Context impl SQLiteImpl.\n",
      "INFO  [alembic.runtime.migration] Will assume non-transactional DDL.\n",
      "INFO  [alembic.autogenerate.compare] Detected added table 'address'\n",
      "INFO  [alembic.autogenerate.compare] Detected added table 'person'\n",
      "  Generating /Users/alexioannides/Dropbox/data_science/workspace/python/data-\n",
      "  science-and-ml-\n",
      "  notebook/sqlalchemy/migrations/versions/c31efd831ee7_initial_migration.py ...  done\n"
     ]
    }
   ],
   "source": [
    "!alembic revision --autogenerate -m \"Initial Migration\""
   ]
  },
  {
   "cell_type": "markdown",
   "id": "df885e55-0f4f-4afc-b2fe-77624b7b40e0",
   "metadata": {},
   "source": [
    "And then we apply them to the DB."
   ]
  },
  {
   "cell_type": "code",
   "execution_count": 3,
   "id": "b25c10d5-e1c4-4fbf-8a88-da8b3c3a6dc0",
   "metadata": {},
   "outputs": [
    {
     "name": "stdout",
     "output_type": "stream",
     "text": [
      "INFO  [alembic.runtime.migration] Context impl SQLiteImpl.\n",
      "INFO  [alembic.runtime.migration] Will assume non-transactional DDL.\n",
      "INFO  [alembic.runtime.migration] Running upgrade  -> c31efd831ee7, Initial Migration\n"
     ]
    }
   ],
   "source": [
    "!alembic upgrade head"
   ]
  },
  {
   "cell_type": "markdown",
   "id": "7d0bd7db-876c-47b7-be57-7f54eafdddf6",
   "metadata": {},
   "source": [
    "## Interacting with Data via SQL Alchemy Models "
   ]
  },
  {
   "cell_type": "markdown",
   "id": "147d272b-3aee-4dbd-9030-bc3b6d22a4e2",
   "metadata": {},
   "source": [
    "### Imports"
   ]
  },
  {
   "cell_type": "code",
   "execution_count": 4,
   "id": "ec20d90c-58c7-4ca3-b9f4-c34ac91169e1",
   "metadata": {},
   "outputs": [],
   "source": [
    "from sqlalchemy import create_engine\n",
    "from sqlalchemy.orm import sessionmaker\n",
    "\n",
    "from models import Person, Address"
   ]
  },
  {
   "cell_type": "markdown",
   "id": "5b28bb9d-75bc-43d0-b968-b568d769a683",
   "metadata": {},
   "source": [
    "### Session\n",
    "\n",
    "Create a session factory."
   ]
  },
  {
   "cell_type": "code",
   "execution_count": 5,
   "id": "83e51102-a20e-41c2-9210-abdc207adc46",
   "metadata": {},
   "outputs": [],
   "source": [
    "session_factory = sessionmaker(bind=create_engine(\"sqlite:///data.db\", echo=False))\n",
    "session = session_factory()"
   ]
  },
  {
   "cell_type": "markdown",
   "id": "b15ebbee-8050-4fc0-a924-d67a1b19c5a3",
   "metadata": {},
   "source": [
    "Create some addresses and commit them."
   ]
  },
  {
   "cell_type": "code",
   "execution_count": 6,
   "id": "0ca63817-b392-4f1f-8f85-c2fce0ae25c1",
   "metadata": {},
   "outputs": [],
   "source": [
    "session.add_all(\n",
    "    [Address(street=\"40 Guernsey Grove\", city=\"London\", postcode=\"SE24 9DE\"),\n",
    "     Address(street=\"42 Guernsey Grove\", city=\"London\", postcode=\"SE24 9DE\")]\n",
    ")\n",
    "session.commit()"
   ]
  },
  {
   "cell_type": "markdown",
   "id": "164a0f55-4a61-44b2-af90-32ef271ef270",
   "metadata": {},
   "source": [
    "Let's run a quick query to make sure they've persisted."
   ]
  },
  {
   "cell_type": "code",
   "execution_count": 7,
   "id": "f4db23f5-ec86-4536-83d6-22995d53f4b3",
   "metadata": {},
   "outputs": [
    {
     "name": "stdout",
     "output_type": "stream",
     "text": [
      "[id=1]: 40 Guernsey Grove, London, SE24 9DE\n",
      "[id=2]: 42 Guernsey Grove, London, SE24 9DE\n"
     ]
    }
   ],
   "source": [
    "addresses = session.query(Address).all()\n",
    "for address in addresses:\n",
    "    print(f\"[id={address.id}]: {address.street}, {address.city}, {address.postcode}\")"
   ]
  },
  {
   "cell_type": "markdown",
   "id": "e8151ea4-3195-4142-a6bf-52189625dd32",
   "metadata": {},
   "source": [
    "Now create some people."
   ]
  },
  {
   "cell_type": "code",
   "execution_count": 8,
   "id": "d0110b4e-26f3-4e42-802c-c13779fdd205",
   "metadata": {},
   "outputs": [],
   "source": [
    "session.add_all(\n",
    "    [Person(name=\"Alex Ioannides\", age=\"41\", address_id=1),\n",
    "     Person(name=\"Sue Mortimer\", age=\"53\", address_id=2)]\n",
    ")\n",
    "session.commit()"
   ]
  },
  {
   "cell_type": "markdown",
   "id": "7ea87a65-28c4-4586-83f3-c6f105a5d406",
   "metadata": {},
   "source": [
    "And make sure that they've persisted correctly."
   ]
  },
  {
   "cell_type": "code",
   "execution_count": 9,
   "id": "47e8748e-f70e-4273-97e2-509ce3593e3b",
   "metadata": {},
   "outputs": [
    {
     "name": "stdout",
     "output_type": "stream",
     "text": [
      "[id=1]: Alex Ioannides (41.0) @ 40 Guernsey Grove, London, SE24 9DE\n",
      "[id=2]: Sue Mortimer (53.0) @ 42 Guernsey Grove, London, SE24 9DE\n"
     ]
    }
   ],
   "source": [
    "people = session.query(Person).all()\n",
    "for person in people:\n",
    "    print(\n",
    "        f\"[id={person.id}]: {person.name} ({person.age}) @ {person.address.street}, \"\n",
    "        f\"{person.address.city}, {person.address.postcode}\"\n",
    "    )"
   ]
  },
  {
   "cell_type": "markdown",
   "id": "cd73a95b-7172-4b21-a207-c30319d427a0",
   "metadata": {},
   "source": [
    "Extracting the same information via a `JOIN`."
   ]
  },
  {
   "cell_type": "code",
   "execution_count": 10,
   "id": "818db02f-6fcd-4538-a327-75eba8ac3edc",
   "metadata": {},
   "outputs": [
    {
     "name": "stdout",
     "output_type": "stream",
     "text": [
      "[id=1]: Alex Ioannides (41.0) @ 42 Guernsey Grove, London, SE24 9DE\n",
      "[id=2]: Sue Mortimer (53.0) @ 42 Guernsey Grove, London, SE24 9DE\n"
     ]
    }
   ],
   "source": [
    "people = session.query(Person).join(Address, Person.address_id==Address.id).all()\n",
    "for person in people:\n",
    "    print(\n",
    "        f\"[id={person.id}]: {person.name} ({person.age}) @ {address.street}, \"\n",
    "        f\"{address.city}, {address.postcode}\"\n",
    "    )"
   ]
  },
  {
   "cell_type": "markdown",
   "id": "72a3bbb6-5337-4555-a885-adc883604319",
   "metadata": {},
   "source": [
    "Or via implicit join."
   ]
  },
  {
   "cell_type": "code",
   "execution_count": 11,
   "id": "22d16656-f890-4b90-8c00-cb8d43e396b5",
   "metadata": {},
   "outputs": [
    {
     "name": "stdout",
     "output_type": "stream",
     "text": [
      "[id=1]: Alex Ioannides (41.0) @ 40 Guernsey Grove, London, SE24 9DE\n",
      "[id=2]: Sue Mortimer (53.0) @ 42 Guernsey Grove, London, SE24 9DE\n"
     ]
    }
   ],
   "source": [
    "query = session.query(Person, Address).filter(Person.address_id==Address.id).all()\n",
    "for person, address in query:\n",
    "    print(\n",
    "        f\"[id={person.id}]: {person.name} ({person.age}) @ {address.street}, \"\n",
    "        f\"{address.city}, {address.postcode}\"\n",
    "    )"
   ]
  }
 ],
 "metadata": {
  "kernelspec": {
   "display_name": "Python 3.10.2 ('.venv': venv)",
   "language": "python",
   "name": "python3"
  },
  "language_info": {
   "codemirror_mode": {
    "name": "ipython",
    "version": 3
   },
   "file_extension": ".py",
   "mimetype": "text/x-python",
   "name": "python",
   "nbconvert_exporter": "python",
   "pygments_lexer": "ipython3",
   "version": "3.10.2"
  },
  "vscode": {
   "interpreter": {
    "hash": "9dc4f215462ea912f4965da2670482d3eef22f25452006b3bdce86b7cb4ab1a4"
   }
  }
 },
 "nbformat": 4,
 "nbformat_minor": 5
}
