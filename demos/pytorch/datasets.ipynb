{
 "cells": [
  {
   "cell_type": "markdown",
   "id": "detailed-skirt",
   "metadata": {},
   "source": [
    "# Datasets\n",
    "\n",
    "How to work with datasets used for training and testing models."
   ]
  },
  {
   "cell_type": "markdown",
   "id": "adaptive-woman",
   "metadata": {},
   "source": [
    "## Imports"
   ]
  },
  {
   "cell_type": "code",
   "execution_count": 1,
   "id": "nonprofit-lawsuit",
   "metadata": {},
   "outputs": [],
   "source": [
    "from typing import Callable, Tuple\n",
    "\n",
    "import numpy as np\n",
    "import torch\n",
    "from torch.utils.data import Dataset, DataLoader"
   ]
  },
  {
   "cell_type": "markdown",
   "id": "pregnant-colombia",
   "metadata": {},
   "source": [
    "## Custom Dataset Classes\n",
    "\n",
    "From the docs:\n",
    "\n",
    "> \"_All datasets that represent a map from keys to data samples should subclass\n",
    "    it. All subclasses should overwrite :meth:`__getitem__`, supporting fetching a\n",
    "    data sample for a given key. Subclasses could also optionally overwrite\n",
    "    :meth:`__len__`, which is expected to return the size of the dataset by many\n",
    "    :class:`~torch.utils.data.Sampler` implementations and the default options\n",
    "    of :class:`~torch.utils.data.DataLoader`._\"\n",
    "    \n",
    "See the docs for more and for subclasses of `Dataset` - e.g. `IterableDataset`."
   ]
  },
  {
   "cell_type": "code",
   "execution_count": 2,
   "id": "acceptable-providence",
   "metadata": {},
   "outputs": [
    {
     "name": "stdout",
     "output_type": "stream",
     "text": [
      "regression_data size = 100\n",
      "regression_data[5] = (tensor(-0.5618, dtype=torch.float64), tensor(-0.5182, dtype=torch.float64))\n"
     ]
    }
   ],
   "source": [
    "Transformer = Callable[[Tuple[float, float]], Tuple[float, float]]\n",
    "\n",
    "\n",
    "class MyRandomRegressionDataset(Dataset):\n",
    "    def __init__(self, n_samples: int, transform: Transformer = None):\n",
    "        self.n_samples = n_samples\n",
    "        self.transform = transform\n",
    "        X = np.random.normal(0, 1, n_samples)\n",
    "        y = 0.5 * X + np.sqrt(0.75) * np.random.normal(0, 1, n_samples)\n",
    "        self.X = torch.from_numpy(X)\n",
    "        self.y = torch.from_numpy(y)\n",
    "\n",
    "    def __len__(self) -> int:\n",
    "        return self.n_samples\n",
    "\n",
    "    def __getitem__(self, idx) -> Tuple[float, float]:\n",
    "        sample = (self.X[idx], self.y[idx])\n",
    "        if self.transform:\n",
    "            return self.transform(sample)\n",
    "        else:\n",
    "            return (self.X[idx], self.y[idx])\n",
    "\n",
    "\n",
    "regression_data = MyRandomRegressionDataset(100)\n",
    "print(f\"regression_data size = {len(regression_data)}\")\n",
    "print(f\"regression_data[5] = {regression_data[5]}\")"
   ]
  },
  {
   "cell_type": "markdown",
   "id": "pregnant-updating",
   "metadata": {},
   "source": [
    "### Transformers\n",
    "\n",
    "Data transformations can be handled at load-time on a sample-by-sample basis."
   ]
  },
  {
   "cell_type": "code",
   "execution_count": 3,
   "id": "opened-processor",
   "metadata": {},
   "outputs": [
    {
     "name": "stdout",
     "output_type": "stream",
     "text": [
      "regression_data_scaled[5] = (tensor(2.3606, dtype=torch.float64), tensor(-1.7589, dtype=torch.float64))\n"
     ]
    }
   ],
   "source": [
    "class ScalarTransform:\n",
    "    def __init__(self, multiplier: float):\n",
    "        self.multiplier = multiplier\n",
    "\n",
    "    def __call__(self, sample: Tuple[float, float]) -> Tuple[float, float]:\n",
    "        X_trans = self.multiplier * sample[0]\n",
    "        y_trans = self.multiplier * sample[1]\n",
    "        return (X_trans, y_trans)\n",
    "\n",
    "\n",
    "regression_data_scaled = MyRandomRegressionDataset(100, transform=ScalarTransform(2))\n",
    "print(f\"regression_data_scaled[5] = {regression_data_scaled[5]}\")"
   ]
  }
 ],
 "metadata": {
  "kernelspec": {
   "display_name": ".venv_pytorch",
   "language": "python",
   "name": "python3"
  },
  "language_info": {
   "codemirror_mode": {
    "name": "ipython",
    "version": 3
   },
   "file_extension": ".py",
   "mimetype": "text/x-python",
   "name": "python",
   "nbconvert_exporter": "python",
   "pygments_lexer": "ipython3",
   "version": "3.10.2"
  },
  "vscode": {
   "interpreter": {
    "hash": "53195f2e71dcfe3ea716e20379841f9508c7537c854fc223ac4e4b5eed7dc1d5"
   }
  }
 },
 "nbformat": 4,
 "nbformat_minor": 5
}
