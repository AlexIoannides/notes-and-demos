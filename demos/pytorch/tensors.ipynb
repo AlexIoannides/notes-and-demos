{
 "cells": [
  {
   "cell_type": "markdown",
   "metadata": {},
   "source": [
    "# Tensor Basics\n",
    "\n",
    "How to create and manipulate tensors, from the point of view of someone who is familar with Numpy arrays. Then, we move beyond Numpy-like comparisons and consider differentiation."
   ]
  },
  {
   "cell_type": "markdown",
   "metadata": {},
   "source": [
    "## Imports"
   ]
  },
  {
   "cell_type": "code",
   "execution_count": 1,
   "metadata": {},
   "outputs": [],
   "source": [
    "from typing import List, Tuple\n",
    "\n",
    "import numpy as np\n",
    "import pandas as pd\n",
    "import seaborn as sns\n",
    "import torch\n",
    "from tqdm import tqdm"
   ]
  },
  {
   "cell_type": "markdown",
   "metadata": {},
   "source": [
    "## 1D Tensors"
   ]
  },
  {
   "cell_type": "markdown",
   "metadata": {},
   "source": [
    "### Creating"
   ]
  },
  {
   "cell_type": "code",
   "execution_count": 2,
   "metadata": {},
   "outputs": [
    {
     "name": "stdout",
     "output_type": "stream",
     "text": [
      "size of a = torch.Size([5]), which is the same as its shape = torch.Size([5])\n",
      "dimensions of a = 1\n",
      "element 0 of a is 0.0\n",
      "type of tensor a is torch.float32, aka torch.FloatTensor\n"
     ]
    }
   ],
   "source": [
    "a = torch.tensor([0, 1, 2, 3, 4], dtype=torch.float32)\n",
    "b = torch.FloatTensor([5, 6, 7, 8, 9])\n",
    "c = torch.linspace(10, 14, steps=5)\n",
    "c.type(torch.FloatTensor)\n",
    "\n",
    "print(f'size of a = {a.size()}, which is the same as its shape = {a.shape}')\n",
    "print(f'dimensions of a = {a.ndimension()}')\n",
    "print(f'element 0 of a is {a[0]}')\n",
    "print(f'type of tensor a is {a.dtype}, aka {a.type()}')"
   ]
  },
  {
   "cell_type": "markdown",
   "metadata": {},
   "source": [
    "#### Interoperability with Numpy"
   ]
  },
  {
   "cell_type": "code",
   "execution_count": 3,
   "metadata": {},
   "outputs": [
    {
     "data": {
      "text/plain": [
       "tensor([0, 1, 2, 3, 4])"
      ]
     },
     "execution_count": 3,
     "metadata": {},
     "output_type": "execute_result"
    }
   ],
   "source": [
    "numpy_x = np.array([0, 1, 2, 3, 4])\n",
    "torch_x = torch.from_numpy(numpy_x) \n",
    "torch_x"
   ]
  },
  {
   "cell_type": "code",
   "execution_count": 4,
   "metadata": {},
   "outputs": [
    {
     "data": {
      "text/plain": [
       "array([5, 6, 7, 8], dtype=int32)"
      ]
     },
     "execution_count": 4,
     "metadata": {},
     "output_type": "execute_result"
    }
   ],
   "source": [
    "torch_y = torch.IntTensor([5, 6, 7, 8])\n",
    "numpy_y = torch_y.numpy()\n",
    "numpy_y"
   ]
  },
  {
   "cell_type": "markdown",
   "metadata": {},
   "source": [
    "#### Working with Elements"
   ]
  },
  {
   "cell_type": "code",
   "execution_count": 5,
   "metadata": {},
   "outputs": [
    {
     "data": {
      "text/plain": [
       "tensor([1., 2.])"
      ]
     },
     "execution_count": 5,
     "metadata": {},
     "output_type": "execute_result"
    }
   ],
   "source": [
    "a[1:3]"
   ]
  },
  {
   "cell_type": "code",
   "execution_count": 6,
   "metadata": {},
   "outputs": [
    {
     "data": {
      "text/plain": [
       "tensor([ 0.,  1.,  2., -1.,  4.])"
      ]
     },
     "execution_count": 6,
     "metadata": {},
     "output_type": "execute_result"
    }
   ],
   "source": [
    "a[3] = -1\n",
    "a"
   ]
  },
  {
   "cell_type": "markdown",
   "metadata": {},
   "source": [
    "### Reshaping Tensors"
   ]
  },
  {
   "cell_type": "code",
   "execution_count": 7,
   "metadata": {},
   "outputs": [
    {
     "data": {
      "text/plain": [
       "tensor([[ 0.],\n",
       "        [ 1.],\n",
       "        [ 2.],\n",
       "        [-1.],\n",
       "        [ 4.]])"
      ]
     },
     "execution_count": 7,
     "metadata": {},
     "output_type": "execute_result"
    }
   ],
   "source": [
    "a_transpose = a.view(-1, 1)\n",
    "a_transpose"
   ]
  },
  {
   "cell_type": "markdown",
   "metadata": {},
   "source": [
    "### Tensor Algebra"
   ]
  },
  {
   "cell_type": "code",
   "execution_count": 8,
   "metadata": {},
   "outputs": [
    {
     "data": {
      "text/plain": [
       "tensor([20., 24., 28., 28., 36.])"
      ]
     },
     "execution_count": 8,
     "metadata": {},
     "output_type": "execute_result"
    }
   ],
   "source": [
    "d = a + 2 * b + c\n",
    "d"
   ]
  },
  {
   "cell_type": "code",
   "execution_count": 9,
   "metadata": {},
   "outputs": [
    {
     "data": {
      "text/plain": [
       "tensor(196.)"
      ]
     },
     "execution_count": 9,
     "metadata": {},
     "output_type": "execute_result"
    }
   ],
   "source": [
    "torch.dot(a, d)"
   ]
  },
  {
   "cell_type": "markdown",
   "metadata": {},
   "source": [
    "### Applying Universal Functions"
   ]
  },
  {
   "cell_type": "code",
   "execution_count": 10,
   "metadata": {},
   "outputs": [
    {
     "data": {
      "text/plain": [
       "tensor(63.2000)"
      ]
     },
     "execution_count": 10,
     "metadata": {},
     "output_type": "execute_result"
    }
   ],
   "source": [
    "d.mean() + d.max()"
   ]
  },
  {
   "cell_type": "code",
   "execution_count": 11,
   "metadata": {},
   "outputs": [
    {
     "data": {
      "text/plain": [
       "tensor([ 3.,  3., 28., 28., 36.])"
      ]
     },
     "execution_count": 11,
     "metadata": {},
     "output_type": "execute_result"
    }
   ],
   "source": [
    "d[:2] = 3\n",
    "d"
   ]
  },
  {
   "cell_type": "markdown",
   "metadata": {},
   "source": [
    "## 2D Tensors"
   ]
  },
  {
   "cell_type": "markdown",
   "metadata": {},
   "source": [
    "## Creating"
   ]
  },
  {
   "cell_type": "code",
   "execution_count": 12,
   "metadata": {},
   "outputs": [
    {
     "name": "stdout",
     "output_type": "stream",
     "text": [
      "dimensions of q = 2\n",
      "shape of q = torch.Size([3, 3])\n",
      "number of elements in q = 9\n"
     ]
    }
   ],
   "source": [
    "q = torch.FloatTensor([[0, 1, 2], [3, 4, 5], [6, 7, 8]])\n",
    "\n",
    "print(f'dimensions of q = {q.ndimension()}')\n",
    "print(f'shape of q = {q.shape}')\n",
    "print(f'number of elements in q = {q.numel()}')"
   ]
  },
  {
   "cell_type": "markdown",
   "metadata": {},
   "source": [
    "### Matrix Algebra"
   ]
  },
  {
   "cell_type": "code",
   "execution_count": 13,
   "metadata": {},
   "outputs": [
    {
     "data": {
      "text/plain": [
       "tensor([[ 30.,  36.,  42.],\n",
       "        [ 84., 108., 132.],\n",
       "        [138., 180., 222.]])"
      ]
     },
     "execution_count": 13,
     "metadata": {},
     "output_type": "execute_result"
    }
   ],
   "source": [
    "r = q * 2\n",
    "s = torch.mm(q, r)\n",
    "s"
   ]
  },
  {
   "cell_type": "markdown",
   "metadata": {},
   "source": [
    "## Differentiation"
   ]
  },
  {
   "cell_type": "code",
   "execution_count": 14,
   "metadata": {},
   "outputs": [
    {
     "data": {
      "text/plain": [
       "tensor(4.)"
      ]
     },
     "execution_count": 14,
     "metadata": {},
     "output_type": "execute_result"
    }
   ],
   "source": [
    "x = torch.tensor(2., requires_grad=True)\n",
    "y = x ** 2\n",
    "y.backward()\n",
    "x.grad"
   ]
  },
  {
   "cell_type": "code",
   "execution_count": 15,
   "metadata": {},
   "outputs": [
    {
     "name": "stdout",
     "output_type": "stream",
     "text": [
      "is x a leaf node in the computation graph? True\n",
      "is y a leaf node in the computation graph? False\n"
     ]
    }
   ],
   "source": [
    "print(f'is x a leaf node in the computation graph? {x.is_leaf}')\n",
    "print(f'is y a leaf node in the computation graph? {y.is_leaf}')"
   ]
  },
  {
   "cell_type": "code",
   "execution_count": 16,
   "metadata": {},
   "outputs": [
    {
     "name": "stdout",
     "output_type": "stream",
     "text": [
      "dp/dm at m = 1.0\n",
      "dp/dn at n = 2.0\n"
     ]
    }
   ],
   "source": [
    "m = torch.tensor(2., requires_grad=True)\n",
    "n = torch.tensor(1., requires_grad=True)\n",
    "p = m + 2 * n\n",
    "p.backward()\n",
    "\n",
    "print(f'dp/dm at m = {m.grad}')\n",
    "print(f'dp/dn at n = {n.grad}')"
   ]
  },
  {
   "cell_type": "markdown",
   "metadata": {},
   "source": [
    "A more complex example that implments basic gradient descent in 1D, from first principles."
   ]
  },
  {
   "cell_type": "code",
   "execution_count": 17,
   "metadata": {},
   "outputs": [
    {
     "name": "stderr",
     "output_type": "stream",
     "text": [
      "100%|██████████| 50/50 [00:00<00:00, 2436.76it/s]"
     ]
    },
    {
     "name": "stdout",
     "output_type": "stream",
     "text": [
      "x = 2.00\n"
     ]
    },
    {
     "name": "stderr",
     "output_type": "stream",
     "text": [
      "\n"
     ]
    },
    {
     "data": {
      "image/png": "[encoded data removed]",
      "text/plain": [
       "<Figure size 432x288 with 1 Axes>"
      ]
     },
     "metadata": {
      "needs_background": "light"
     },
     "output_type": "display_data"
    }
   ],
   "source": [
    "def f(x: torch.Tensor) -> torch.Tensor:\n",
    "    return (x - 2) ** 2\n",
    "\n",
    "\n",
    "n_iterations = 50\n",
    "eta = 0.1\n",
    "\n",
    "x = torch.tensor([-3.5], requires_grad=True)\n",
    "x_hist: List[Tuple[int, float]] = []\n",
    "\n",
    "for n in tqdm(range(n_iterations)):\n",
    "    x_hist.append((n, x.detach().numpy()[0]))\n",
    "    f(x).backward()\n",
    "    x.data -= eta * x.grad\n",
    "    x.grad.zero_()\n",
    "\n",
    "print(f\"x = {x.detach().numpy()[0]:.2f}\")\n",
    "_ = sns.lineplot(y=\"x\", x=\"n\", data=pd.DataFrame(x_hist, columns=[\"n\", \"x\"]))\n"
   ]
  },
  {
   "cell_type": "markdown",
   "metadata": {},
   "source": [
    "Repeating the above, but this time using PyTorch's internal optimisation routines."
   ]
  },
  {
   "cell_type": "code",
   "execution_count": 18,
   "metadata": {},
   "outputs": [
    {
     "name": "stderr",
     "output_type": "stream",
     "text": [
      "100%|██████████| 50/50 [00:00<00:00, 3604.10it/s]\n"
     ]
    },
    {
     "name": "stdout",
     "output_type": "stream",
     "text": [
      "x = 2.00\n"
     ]
    },
    {
     "data": {
      "image/png": "[encoded data removed]",
      "text/plain": [
       "<Figure size 432x288 with 1 Axes>"
      ]
     },
     "metadata": {
      "needs_background": "light"
     },
     "output_type": "display_data"
    }
   ],
   "source": [
    "x_param = torch.nn.Parameter(torch.tensor([-3.5], requires_grad=True))\n",
    "optimizer = torch.optim.SGD([x_param], lr=eta)\n",
    "x_hist.clear()\n",
    "\n",
    "for n in tqdm(range(n_iterations)):\n",
    "    x_hist.append((n, x_param.detach().numpy()[0]))\n",
    "    optimizer.zero_grad()\n",
    "    f(x_param).backward()\n",
    "    optimizer.step()\n",
    "\n",
    "print(f\"x = {x.detach().numpy()[0]:.2f}\")\n",
    "_ = sns.lineplot(y=\"x\", x=\"n\", data=pd.DataFrame(x_hist, columns=[\"n\", \"x\"]))\n"
   ]
  }
 ],
 "metadata": {
  "kernelspec": {
   "display_name": "Python 3.10.2 ('.venv': venv)",
   "language": "python",
   "name": "python3"
  },
  "language_info": {
   "codemirror_mode": {
    "name": "ipython",
    "version": 3
   },
   "file_extension": ".py",
   "mimetype": "text/x-python",
   "name": "python",
   "nbconvert_exporter": "python",
   "pygments_lexer": "ipython3",
   "version": "3.10.2"
  },
  "vscode": {
   "interpreter": {
    "hash": "9dc4f215462ea912f4965da2670482d3eef22f25452006b3bdce86b7cb4ab1a4"
   }
  }
 },
 "nbformat": 4,
 "nbformat_minor": 4
}
