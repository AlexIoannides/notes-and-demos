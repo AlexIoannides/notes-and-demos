{
 "cells": [
  {
   "cell_type": "markdown",
   "id": "departmental-prince",
   "metadata": {},
   "source": [
    "# Deep Learning\n",
    "\n",
    "This notebook tackles the classic [MNIST](https://en.wikipedia.org/wiki/MNIST_database) classification task, as a proxy for building simple neural networks with PyTorch."
   ]
  },
  {
   "cell_type": "markdown",
   "id": "solar-steel",
   "metadata": {},
   "source": [
    "## Imports and Configuration"
   ]
  },
  {
   "cell_type": "code",
   "execution_count": 1,
   "id": "through-islam",
   "metadata": {},
   "outputs": [
    {
     "data": {
      "text/plain": [
       "<torch._C.Generator at 0x10a0322b0>"
      ]
     },
     "execution_count": 1,
     "metadata": {},
     "output_type": "execute_result"
    }
   ],
   "source": [
    "from typing import Sequence\n",
    "\n",
    "import torch\n",
    "import torchvision\n",
    "from matplotlib import pyplot as plt\n",
    "from torch import nn\n",
    "from torch.utils.data import DataLoader\n",
    "from tqdm import tqdm\n",
    "\n",
    "torch.manual_seed(1)"
   ]
  },
  {
   "cell_type": "markdown",
   "id": "modified-desperate",
   "metadata": {},
   "source": [
    "## Get Dataset"
   ]
  },
  {
   "cell_type": "code",
   "execution_count": 2,
   "id": "immune-eleven",
   "metadata": {},
   "outputs": [
    {
     "name": "stdout",
     "output_type": "stream",
     "text": [
      "60,000 instances of training data\n",
      "10,000 instances of training data\n"
     ]
    }
   ],
   "source": [
    "train_data = torchvision.datasets.MNIST(\n",
    "    root='./data',\n",
    "    train=True,\n",
    "    download=True,\n",
    "    transform=torchvision.transforms.ToTensor()\n",
    ")\n",
    "\n",
    "test_data = torchvision.datasets.MNIST(\n",
    "    root='./data',\n",
    "    train=False,\n",
    "    download=True,\n",
    "    transform=torchvision.transforms.ToTensor()\n",
    ")\n",
    "\n",
    "print(f'{len(train_data):,} instances of training data')\n",
    "print(f'{len(test_data):,} instances of training data')"
   ]
  },
  {
   "cell_type": "markdown",
   "id": "tested-amendment",
   "metadata": {},
   "source": [
    "Inspect a single instance of training data."
   ]
  },
  {
   "cell_type": "code",
   "execution_count": 3,
   "id": "exempt-sacrifice",
   "metadata": {},
   "outputs": [
    {
     "name": "stdout",
     "output_type": "stream",
     "text": [
      "label = 5\n"
     ]
    },
    {
     "data": {
      "image/png": "[encoded data removed]",
      "text/plain": [
       "<Figure size 640x480 with 1 Axes>"
      ]
     },
     "metadata": {},
     "output_type": "display_data"
    }
   ],
   "source": [
    "data_instance, data_label = train_data[0]\n",
    "print(f'label = {data_label}')\n",
    "_ = plt.imshow(data_instance[0], cmap='gray')"
   ]
  },
  {
   "cell_type": "markdown",
   "id": "hungarian-monroe",
   "metadata": {},
   "source": [
    "## Training a Classification Model\n",
    "\n",
    "Start by defining the network that we want to train."
   ]
  },
  {
   "cell_type": "code",
   "execution_count": 4,
   "id": "excited-cinema",
   "metadata": {},
   "outputs": [],
   "source": [
    "class ClassifyMNIST(nn.Module):\n",
    "    \"\"\"MNIST classification network.\"\"\"\n",
    "    \n",
    "    def __init__(self, n_hidden_neurons):\n",
    "        super().__init__()\n",
    "        self.input_dim = 28 * 28\n",
    "        self.n_classes = 10\n",
    "        self.n_hidden_neurons = n_hidden_neurons\n",
    "        self.model = nn.Sequential(\n",
    "            nn.Linear(self.input_dim, n_hidden_neurons),\n",
    "            nn.ReLU(),\n",
    "            nn.Linear(n_hidden_neurons, self.n_classes)\n",
    "        )\n",
    "        \n",
    "    \n",
    "    def forward(self, X: torch.Tensor) -> torch.Tensor:\n",
    "        \"\"\"Compute a prediction.\"\"\"\n",
    "        return self.model(X)"
   ]
  },
  {
   "cell_type": "markdown",
   "id": "environmental-morgan",
   "metadata": {},
   "source": [
    "And then the training routine to use with it."
   ]
  },
  {
   "cell_type": "code",
   "execution_count": 5,
   "id": "naughty-patient",
   "metadata": {},
   "outputs": [],
   "source": [
    "def train(\n",
    "    model: nn.Module,\n",
    "    criterion: nn.Module,\n",
    "    data_loader: DataLoader,\n",
    "    n_epochs: int,\n",
    "    learning_rate: float\n",
    ") -> Sequence[float]:\n",
    "    \"\"\"Train the model over multiple epochs recording the loss for each.\"\"\"\n",
    "\n",
    "    def process_batch(X: torch.Tensor, y: torch.Tensor) -> float:\n",
    "        y_hat = model.forward(X.view(-1, model.input_dim))\n",
    "        loss = criterion(y_hat, y)\n",
    "        optimiser.zero_grad()\n",
    "        loss.backward()\n",
    "        optimiser.step()\n",
    "        return loss.detach().numpy().tolist()\n",
    "\n",
    "    def process_epoch(n: int) -> float:\n",
    "        return [process_batch(X, y) for X, y in data_loader][-1]\n",
    "\n",
    "    optimiser = torch.optim.SGD(model.parameters(), lr=0.05)\n",
    "    training_run = [process_epoch(epoch) for epoch in tqdm(range(n_epochs))]\n",
    "    return training_run"
   ]
  },
  {
   "cell_type": "markdown",
   "id": "reliable-diameter",
   "metadata": {},
   "source": [
    "Train the model!"
   ]
  },
  {
   "cell_type": "code",
   "execution_count": 6,
   "id": "straight-riding",
   "metadata": {},
   "outputs": [
    {
     "name": "stderr",
     "output_type": "stream",
     "text": [
      "100%|██████████| 10/10 [00:19<00:00,  1.95s/it]\n"
     ]
    },
    {
     "data": {
      "text/plain": [
       "[0.6655572652816772,\n",
       " 0.39592447876930237,\n",
       " 0.3300316035747528,\n",
       " 0.3028208613395691,\n",
       " 0.2876836657524109,\n",
       " 0.27742865681648254,\n",
       " 0.26953956484794617,\n",
       " 0.26290494203567505,\n",
       " 0.25701382756233215,\n",
       " 0.25152701139450073]"
      ]
     },
     "execution_count": 6,
     "metadata": {},
     "output_type": "execute_result"
    }
   ],
   "source": [
    "training_data_loader = DataLoader(dataset=train_data, batch_size=500)\n",
    "model = ClassifyMNIST(28*28)\n",
    "loss_func = nn.CrossEntropyLoss()\n",
    "train(model, loss_func, training_data_loader, n_epochs=10, learning_rate=0.05)"
   ]
  },
  {
   "cell_type": "markdown",
   "id": "accessible-crystal",
   "metadata": {},
   "source": [
    "Asses the model on the test dataset."
   ]
  },
  {
   "cell_type": "code",
   "execution_count": 7,
   "id": "constitutional-young",
   "metadata": {},
   "outputs": [
    {
     "data": {
      "text/plain": [
       "tensor(0.9236)"
      ]
     },
     "execution_count": 7,
     "metadata": {},
     "output_type": "execute_result"
    }
   ],
   "source": [
    "test_data_loader = DataLoader(dataset=test_data, batch_size=10000)\n",
    "correct = 0\n",
    "for X, y in test_data_loader:\n",
    "    _, y_hat = torch.max(model.forward(X.view(-1, 28*28)), 1)\n",
    "    correct += (y_hat == y).sum()\n",
    "accuracy = correct / len(test_data)\n",
    "accuracy"
   ]
  },
  {
   "cell_type": "markdown",
   "id": "coupled-familiar",
   "metadata": {},
   "source": [
    "Let's test it on the test instance displayed above."
   ]
  },
  {
   "cell_type": "code",
   "execution_count": 8,
   "id": "floating-suggestion",
   "metadata": {},
   "outputs": [
    {
     "data": {
      "text/plain": [
       "tensor([5])"
      ]
     },
     "execution_count": 8,
     "metadata": {},
     "output_type": "execute_result"
    }
   ],
   "source": [
    "output_from_final_layer = model(data_instance.view(-1, 28*28))\n",
    "value, index = torch.max(output_from_final_layer, 1)\n",
    "index"
   ]
  }
 ],
 "metadata": {
  "kernelspec": {
   "display_name": ".venv_pytorch",
   "language": "python",
   "name": "python3"
  },
  "language_info": {
   "codemirror_mode": {
    "name": "ipython",
    "version": 3
   },
   "file_extension": ".py",
   "mimetype": "text/x-python",
   "name": "python",
   "nbconvert_exporter": "python",
   "pygments_lexer": "ipython3",
   "version": "3.10.2"
  },
  "vscode": {
   "interpreter": {
    "hash": "53195f2e71dcfe3ea716e20379841f9508c7537c854fc223ac4e4b5eed7dc1d5"
   }
  }
 },
 "nbformat": 4,
 "nbformat_minor": 5
}
