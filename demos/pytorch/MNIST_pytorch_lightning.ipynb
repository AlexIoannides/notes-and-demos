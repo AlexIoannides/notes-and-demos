{
 "cells": [
  {
   "attachments": {},
   "cell_type": "markdown",
   "id": "departmental-prince",
   "metadata": {},
   "source": [
    "# Deep Learning & PyTorch Lightning\n",
    "\n",
    "This notebook revisits the classic MNIST classification task that we used to demonstrate deep learning with PyTorch, but with the aim of demonstrating the benefits of using the PyTorch Lightening framework. PyTorch Lightning extends PyTorch to provide a consistent workflow for defining, training and applying deep learning models, together with many productivity gains via automating repetetive tasks common to all deep learning models.\n",
    "\n",
    "The two core components of PyTorch Lightning are the `LightningModule` and `Trainer` classes. This notebook makes use of these classes to rework a pure PyTorch MNIST classification model (see previous notebook on 'Deep Learning with PyTorch')."
   ]
  },
  {
   "attachments": {},
   "cell_type": "markdown",
   "id": "solar-steel",
   "metadata": {},
   "source": [
    "## Imports and Configuration\n",
    "\n",
    "We can use PyTorch lightening to manage random seeds."
   ]
  },
  {
   "cell_type": "code",
   "execution_count": 20,
   "id": "through-islam",
   "metadata": {},
   "outputs": [
    {
     "name": "stderr",
     "output_type": "stream",
     "text": [
      "Global seed set to 42\n"
     ]
    },
    {
     "data": {
      "text/plain": [
       "42"
      ]
     },
     "execution_count": 20,
     "metadata": {},
     "output_type": "execute_result"
    }
   ],
   "source": [
    "from typing import Sequence, Tuple\n",
    "\n",
    "import torch\n",
    "import torchvision\n",
    "import pytorch_lightning as pl\n",
    "from matplotlib import pyplot as plt\n",
    "from torch import nn\n",
    "from torch.utils.data import DataLoader\n",
    "from tqdm import tqdm\n",
    "\n",
    "pl.seed_everything(42, workers=True)"
   ]
  },
  {
   "cell_type": "markdown",
   "id": "modified-desperate",
   "metadata": {},
   "source": [
    "## Get Dataset"
   ]
  },
  {
   "cell_type": "code",
   "execution_count": 21,
   "id": "immune-eleven",
   "metadata": {},
   "outputs": [
    {
     "name": "stdout",
     "output_type": "stream",
     "text": [
      "60,000 instances of training data\n",
      "10,000 instances of training data\n"
     ]
    }
   ],
   "source": [
    "train_data = torchvision.datasets.MNIST(\n",
    "    root='./data',\n",
    "    train=True,\n",
    "    download=True,\n",
    "    transform=torchvision.transforms.ToTensor()\n",
    ")\n",
    "\n",
    "test_data = torchvision.datasets.MNIST(\n",
    "    root='./data',\n",
    "    train=False,\n",
    "    download=True,\n",
    "    transform=torchvision.transforms.ToTensor()\n",
    ")\n",
    "\n",
    "print(f'{len(train_data):,} instances of training data')\n",
    "print(f'{len(test_data):,} instances of training data')"
   ]
  },
  {
   "cell_type": "markdown",
   "id": "tested-amendment",
   "metadata": {},
   "source": [
    "Inspect a single instance of training data."
   ]
  },
  {
   "cell_type": "code",
   "execution_count": 22,
   "id": "exempt-sacrifice",
   "metadata": {},
   "outputs": [
    {
     "name": "stdout",
     "output_type": "stream",
     "text": [
      "label = 5\n"
     ]
    },
    {
     "data": {
      "image/png": "[encoded data removed]",
      "text/plain": [
       "<Figure size 640x480 with 1 Axes>"
      ]
     },
     "metadata": {},
     "output_type": "display_data"
    }
   ],
   "source": [
    "data_instance, data_label = train_data[0]\n",
    "print(f'label = {data_label}')\n",
    "_ = plt.imshow(data_instance[0], cmap='gray')"
   ]
  },
  {
   "attachments": {},
   "cell_type": "markdown",
   "id": "hungarian-monroe",
   "metadata": {},
   "source": [
    "## Training a Classification Model\n",
    "\n",
    "The `pytorch_lightning.LightningModule` inherits from `torch.nn.Module` and extends with several methods that help to standardise deep learning workflows. We will only make use of those that assist with training and prediction - for full details see the [LightningModule API reference](https://pytorch-lightning.readthedocs.io/en/latest/common/lightning_module.html)."
   ]
  },
  {
   "cell_type": "code",
   "execution_count": 23,
   "id": "excited-cinema",
   "metadata": {},
   "outputs": [],
   "source": [
    "class ClassifyMNIST(pl.LightningModule):\n",
    "    \"\"\"MNIST classification with PyTorch Lightening.\"\"\"\n",
    "    \n",
    "    def __init__(self, n_hidden_neurons):\n",
    "        \"\"\"Constructor.\n",
    "        \n",
    "        Model definition and configuration.\n",
    "        \"\"\"\n",
    "        super().__init__()\n",
    "        self.input_dim = 28 * 28\n",
    "        self.n_classes = 10\n",
    "        self.n_hidden_neurons = n_hidden_neurons\n",
    "\n",
    "        self.model = nn.Sequential(\n",
    "            nn.Flatten(),\n",
    "            nn.Linear(self.input_dim, n_hidden_neurons),\n",
    "            nn.ReLU(),\n",
    "            nn.Linear(n_hidden_neurons, self.n_classes)\n",
    "        )\n",
    "    \n",
    "    def forward(self, X: torch.Tensor) -> torch.Tensor:\n",
    "        \"\"\"Compute a forward-pass of the model.\"\"\"\n",
    "        return self.model(X)\n",
    "\n",
    "    def training_step(self, batch: Tuple[torch.Tensor, torch.Tensor], batch_idx: int) -> torch.Tensor:\n",
    "        \"\"\"Compute the loss for a single batch within an epoch.\"\"\"\n",
    "        X, y = batch\n",
    "        y_hat = self.model.forward(X)\n",
    "        loss = nn.functional.cross_entropy(y_hat, y)\n",
    "        self.log(\"train_loss\", loss)  # TensorBoard logging\n",
    "        return loss\n",
    "\n",
    "    def configure_optimizers(self):\n",
    "        \"\"\"Setup optimisers to use for training.\"\"\"\n",
    "        optimiser = torch.optim.SGD(self.parameters(), lr=0.05)\n",
    "        return optimiser\n",
    "\n",
    "    def test_step(self, batch: Tuple[torch.Tensor, torch.Tensor], batch_idx: int) -> None:\n",
    "        \"\"\"Compute test metrics for a single batch of test data.\"\"\"\n",
    "        X, y = batch\n",
    "        y_hat_prob = self.model(X)\n",
    "        y_hat_cat = torch.argmax(y_hat_prob, 1)\n",
    "        accuracy = (y_hat_cat == y).sum() / len(y)\n",
    "        metrics = {\"accuracy\": accuracy}\n",
    "        self.log_dict(metrics)\n",
    "\n",
    "    def predict_step(self, batch: Tuple[torch.Tensor, torch.Tensor], batch_idx: int, dataloader_idx: int = 0) -> torch.Tensor:\n",
    "        \"\"\"Score a single batch of data.\"\"\"\n",
    "        X, y = batch\n",
    "        y_hat_prob = self.model(X)\n",
    "        y_hat_cat = torch.argmax(y_hat_prob, 1)\n",
    "        return y_hat_cat"
   ]
  },
  {
   "attachments": {},
   "cell_type": "markdown",
   "id": "reliable-diameter",
   "metadata": {},
   "source": [
    "The `training_step` and `configure_optimizers` methods will enable the `Trainer` class to run training, without us needing to develop the training loop. Whereas these methods are mandatory, there are many methods that can be overriden that are not. We've decided to define our own `test_step` and `predict_step` methods, to enable the computation of performance metrics and inference, respectively.\n",
    "\n",
    "We can now fit the model using the `Trainer` class, that will handles GPU acceleration, checkpointing (i.e., saving) parameters and a lot more - see the [Trainer API reference](https://pytorch-lightning.readthedocs.io/en/latest/common/trainer.html) for the full details."
   ]
  },
  {
   "cell_type": "code",
   "execution_count": 24,
   "id": "straight-riding",
   "metadata": {},
   "outputs": [
    {
     "name": "stderr",
     "output_type": "stream",
     "text": [
      "GPU available: True (mps), used: True\n",
      "TPU available: False, using: 0 TPU cores\n",
      "IPU available: False, using: 0 IPUs\n",
      "HPU available: False, using: 0 HPUs\n",
      "\n",
      "  | Name  | Type       | Params\n",
      "-------------------------------------\n",
      "0 | model | Sequential | 623 K \n",
      "-------------------------------------\n",
      "623 K     Trainable params\n",
      "0         Non-trainable params\n",
      "623 K     Total params\n",
      "2.493     Total estimated model params size (MB)\n"
     ]
    },
    {
     "data": {
      "application/vnd.jupyter.widget-view+json": {
       "model_id": "b0a1e3708bd448e28f66922980207237",
       "version_major": 2,
       "version_minor": 0
      },
      "text/plain": [
       "Training: 0it [00:00, ?it/s]"
      ]
     },
     "metadata": {},
     "output_type": "display_data"
    },
    {
     "name": "stderr",
     "output_type": "stream",
     "text": [
      "`Trainer.fit` stopped: `max_epochs=10` reached.\n"
     ]
    }
   ],
   "source": [
    "model = ClassifyMNIST(28*28)\n",
    "trainer = pl.Trainer(max_epochs=10, deterministic=True, default_root_dir=\".\", accelerator=\"auto\")\n",
    "train_data_loader = DataLoader(dataset=train_data, batch_size=500, num_workers=10)\n",
    "trainer.fit(model=model, train_dataloaders=train_data_loader)"
   ]
  },
  {
   "cell_type": "markdown",
   "id": "accessible-crystal",
   "metadata": {},
   "source": [
    "Asses the model on the test dataset."
   ]
  },
  {
   "cell_type": "code",
   "execution_count": 25,
   "id": "0a25c20c",
   "metadata": {},
   "outputs": [
    {
     "name": "stderr",
     "output_type": "stream",
     "text": [
      "Restoring states from the checkpoint path at ./lightning_logs/version_4/checkpoints/epoch=9-step=1200.ckpt\n",
      "Loaded model weights from checkpoint at ./lightning_logs/version_4/checkpoints/epoch=9-step=1200.ckpt\n"
     ]
    },
    {
     "data": {
      "application/vnd.jupyter.widget-view+json": {
       "model_id": "ca59326a757c4b828adedd726638d26a",
       "version_major": 2,
       "version_minor": 0
      },
      "text/plain": [
       "Testing: 0it [00:00, ?it/s]"
      ]
     },
     "metadata": {},
     "output_type": "display_data"
    },
    {
     "name": "stdout",
     "output_type": "stream",
     "text": [
      "────────────────────────────────────────────────────────────────────────────────────────────────────────────────────────\n",
      "       Test metric             DataLoader 0\n",
      "────────────────────────────────────────────────────────────────────────────────────────────────────────────────────────\n",
      "        accuracy            0.9232001304626465\n",
      "────────────────────────────────────────────────────────────────────────────────────────────────────────────────────────\n"
     ]
    },
    {
     "data": {
      "text/plain": [
       "0.9232001304626465"
      ]
     },
     "execution_count": 25,
     "metadata": {},
     "output_type": "execute_result"
    }
   ],
   "source": [
    "test_data_loader = DataLoader(dataset=test_data, batch_size=10000, num_workers=10)\n",
    "test_metrics = trainer.test(ckpt_path=\"best\", dataloaders=test_data_loader)\n",
    "test_metrics[0][\"accuracy\"]"
   ]
  },
  {
   "attachments": {},
   "cell_type": "markdown",
   "id": "15811892",
   "metadata": {},
   "source": [
    "Batch inference automation."
   ]
  },
  {
   "cell_type": "code",
   "execution_count": 26,
   "id": "7e40e93f",
   "metadata": {},
   "outputs": [
    {
     "name": "stderr",
     "output_type": "stream",
     "text": [
      "Restoring states from the checkpoint path at ./lightning_logs/version_4/checkpoints/epoch=9-step=1200.ckpt\n",
      "Loaded model weights from checkpoint at ./lightning_logs/version_4/checkpoints/epoch=9-step=1200.ckpt\n"
     ]
    },
    {
     "data": {
      "application/vnd.jupyter.widget-view+json": {
       "model_id": "c4511831e06441889b1f94d595daa834",
       "version_major": 2,
       "version_minor": 0
      },
      "text/plain": [
       "Predicting: 120it [00:00, ?it/s]"
      ]
     },
     "metadata": {},
     "output_type": "display_data"
    },
    {
     "data": {
      "text/plain": [
       "tensor([7, 2, 1,  ..., 4, 5, 6])"
      ]
     },
     "execution_count": 26,
     "metadata": {},
     "output_type": "execute_result"
    }
   ],
   "source": [
    "predictions = trainer.predict(ckpt_path=\"best\", dataloaders=test_data_loader, )\n",
    "predictions[0]"
   ]
  },
  {
   "attachments": {},
   "cell_type": "markdown",
   "id": "coupled-familiar",
   "metadata": {},
   "source": [
    "Scoring a single instance manually."
   ]
  },
  {
   "cell_type": "code",
   "execution_count": 27,
   "id": "floating-suggestion",
   "metadata": {},
   "outputs": [
    {
     "data": {
      "text/plain": [
       "tensor([5])"
      ]
     },
     "execution_count": 27,
     "metadata": {},
     "output_type": "execute_result"
    }
   ],
   "source": [
    "model.eval()\n",
    "with torch.inference_mode():\n",
    "    output_from_final_layer = model.forward(data_instance)\n",
    "\n",
    "value, index = torch.max(output_from_final_layer, 1)\n",
    "index"
   ]
  },
  {
   "cell_type": "code",
   "execution_count": null,
   "id": "1df79f94",
   "metadata": {},
   "outputs": [],
   "source": []
  }
 ],
 "metadata": {
  "kernelspec": {
   "display_name": ".venv_pytorch",
   "language": "python",
   "name": "python3"
  },
  "language_info": {
   "codemirror_mode": {
    "name": "ipython",
    "version": 3
   },
   "file_extension": ".py",
   "mimetype": "text/x-python",
   "name": "python",
   "nbconvert_exporter": "python",
   "pygments_lexer": "ipython3",
   "version": "3.10.2"
  },
  "vscode": {
   "interpreter": {
    "hash": "53195f2e71dcfe3ea716e20379841f9508c7537c854fc223ac4e4b5eed7dc1d5"
   }
  }
 },
 "nbformat": 4,
 "nbformat_minor": 5
}
